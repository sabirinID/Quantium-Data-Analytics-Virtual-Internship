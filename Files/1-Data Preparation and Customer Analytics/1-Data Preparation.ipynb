{
 "cells": [
  {
   "cell_type": "markdown",
   "metadata": {},
   "source": [
    "# Data Preparation\n",
    "\n",
    "## Load required libraries"
   ]
  },
  {
   "cell_type": "code",
   "execution_count": 1,
   "metadata": {},
   "outputs": [],
   "source": [
    "# Data manipulation\n",
    "import numpy as np\n",
    "import pandas as pd\n",
    "import datetime as dt\n",
    "\n",
    "# Data visualization\n",
    "import matplotlib as mpl\n",
    "import matplotlib.pyplot as plt\n",
    "import seaborn as sns\n",
    "\n",
    "# Shows plots in jupyter notebook\n",
    "%matplotlib inline\n",
    "\n",
    "# Set plot style\n",
    "sns.set(color_codes=True)\n",
    "\n",
    "# Ignore warning\n",
    "import warnings\n",
    "warnings.filterwarnings('ignore')"
   ]
  },
  {
   "cell_type": "code",
   "execution_count": 2,
   "metadata": {},
   "outputs": [],
   "source": [
    "pd.set_option('display.max_columns', None)\n",
    "pd.set_option('display.max_rows', None)"
   ]
  },
  {
   "cell_type": "code",
   "execution_count": 3,
   "metadata": {},
   "outputs": [
    {
     "name": "stdout",
     "output_type": "stream",
     "text": [
      "NumPy 1.23.5\n",
      "Pandas 2.0.1\n",
      "Matplotlib 3.7.1\n",
      "Seaborn 0.12.2\n"
     ]
    }
   ],
   "source": [
    "print('NumPy', np.__version__)\n",
    "print('Pandas', pd.__version__)\n",
    "print('Matplotlib', mpl.__version__)\n",
    "print('Seaborn', sns.__version__)"
   ]
  },
  {
   "cell_type": "markdown",
   "metadata": {},
   "source": [
    "---\n",
    "## Load data with pandas"
   ]
  },
  {
   "cell_type": "code",
   "execution_count": 4,
   "metadata": {},
   "outputs": [],
   "source": [
    "# Load transaction and customer data\n",
    "transactionData = pd.read_excel('https://github.com/sabirinID/Quantium-Data-Analytics-Virtual-Internship/raw/main/Files/1-Data%20Preparation%20and%20Customer%20Analytics/QVI_transactionData.xlsx')\n",
    "customerData = pd.read_csv('https://github.com/sabirinID/Quantium-Data-Analytics-Virtual-Internship/raw/main/Files/1-Data%20Preparation%20and%20Customer%20Analytics/QVI_purchase_behaviour.csv')"
   ]
  },
  {
   "cell_type": "markdown",
   "metadata": {},
   "source": [
    "---\n",
    "## Data description\n",
    "\n",
    "### Transaction data\n",
    "\n",
    "| Feature Name | Description |\n",
    "|--------------|-------------|\n",
    "| DATE | Date of the transaction |\n",
    "| STORE_NBR | Identification number of the store where the transaction took place |\n",
    "| LYLTY_CARD_NBR | Loyalty card number of the customer |\n",
    "| TXN_id | Identification number of the transaction |\n",
    "| PROD_NBR | Identification number of the product |\n",
    "| PROD_NAME | Name of the product |\n",
    "| PROD_QTY | Quantity of the product purchased in a single transaction |\n",
    "| TOT_SALES | Total sales from the transaction |\n",
    "\n",
    "### Customer data\n",
    "\n",
    "| Feature Name | Description |\n",
    "|--------------|-------------|\n",
    "| LYLTY_CARD_NBR | Loyalty card number of the customer |\n",
    "| LIFESTAGE | Life stage of the customer |\n",
    "| PREMIUM_CUSTOMER | Indicates whether the customer is a premium customer or not |"
   ]
  },
  {
   "cell_type": "markdown",
   "metadata": {},
   "source": [
    "---\n",
    "## Exploratory data analysis\n",
    "\n",
    "The first step in any analysis is to first understand the data. Let's take a look\n",
    "at each of the datasets provided.\n",
    "\n",
    "### Examining transaction data"
   ]
  },
  {
   "cell_type": "code",
   "execution_count": 5,
   "metadata": {},
   "outputs": [
    {
     "data": {
      "text/plain": [
       "(264836, 8)"
      ]
     },
     "execution_count": 5,
     "metadata": {},
     "output_type": "execute_result"
    }
   ],
   "source": [
    "transactionData.shape"
   ]
  },
  {
   "cell_type": "code",
   "execution_count": 6,
   "metadata": {},
   "outputs": [
    {
     "data": {
      "text/plain": [
       "Index(['DATE', 'STORE_NBR', 'LYLTY_CARD_NBR', 'TXN_ID', 'PROD_NBR',\n",
       "       'PROD_NAME', 'PROD_QTY', 'TOT_SALES'],\n",
       "      dtype='object')"
      ]
     },
     "execution_count": 6,
     "metadata": {},
     "output_type": "execute_result"
    }
   ],
   "source": [
    "transactionData.columns"
   ]
  },
  {
   "cell_type": "code",
   "execution_count": 7,
   "metadata": {},
   "outputs": [
    {
     "data": {
      "text/html": [
       "<div>\n",
       "<style scoped>\n",
       "    .dataframe tbody tr th:only-of-type {\n",
       "        vertical-align: middle;\n",
       "    }\n",
       "\n",
       "    .dataframe tbody tr th {\n",
       "        vertical-align: top;\n",
       "    }\n",
       "\n",
       "    .dataframe thead th {\n",
       "        text-align: right;\n",
       "    }\n",
       "</style>\n",
       "<table border=\"1\" class=\"dataframe\">\n",
       "  <thead>\n",
       "    <tr style=\"text-align: right;\">\n",
       "      <th></th>\n",
       "      <th>DATE</th>\n",
       "      <th>STORE_NBR</th>\n",
       "      <th>LYLTY_CARD_NBR</th>\n",
       "      <th>TXN_ID</th>\n",
       "      <th>PROD_NBR</th>\n",
       "      <th>PROD_NAME</th>\n",
       "      <th>PROD_QTY</th>\n",
       "      <th>TOT_SALES</th>\n",
       "    </tr>\n",
       "  </thead>\n",
       "  <tbody>\n",
       "    <tr>\n",
       "      <th>0</th>\n",
       "      <td>43390</td>\n",
       "      <td>1</td>\n",
       "      <td>1000</td>\n",
       "      <td>1</td>\n",
       "      <td>5</td>\n",
       "      <td>Natural Chip        Compny SeaSalt175g</td>\n",
       "      <td>2</td>\n",
       "      <td>6.0</td>\n",
       "    </tr>\n",
       "    <tr>\n",
       "      <th>1</th>\n",
       "      <td>43599</td>\n",
       "      <td>1</td>\n",
       "      <td>1307</td>\n",
       "      <td>348</td>\n",
       "      <td>66</td>\n",
       "      <td>CCs Nacho Cheese    175g</td>\n",
       "      <td>3</td>\n",
       "      <td>6.3</td>\n",
       "    </tr>\n",
       "    <tr>\n",
       "      <th>2</th>\n",
       "      <td>43605</td>\n",
       "      <td>1</td>\n",
       "      <td>1343</td>\n",
       "      <td>383</td>\n",
       "      <td>61</td>\n",
       "      <td>Smiths Crinkle Cut  Chips Chicken 170g</td>\n",
       "      <td>2</td>\n",
       "      <td>2.9</td>\n",
       "    </tr>\n",
       "    <tr>\n",
       "      <th>3</th>\n",
       "      <td>43329</td>\n",
       "      <td>2</td>\n",
       "      <td>2373</td>\n",
       "      <td>974</td>\n",
       "      <td>69</td>\n",
       "      <td>Smiths Chip Thinly  S/Cream&amp;Onion 175g</td>\n",
       "      <td>5</td>\n",
       "      <td>15.0</td>\n",
       "    </tr>\n",
       "    <tr>\n",
       "      <th>4</th>\n",
       "      <td>43330</td>\n",
       "      <td>2</td>\n",
       "      <td>2426</td>\n",
       "      <td>1038</td>\n",
       "      <td>108</td>\n",
       "      <td>Kettle Tortilla ChpsHny&amp;Jlpno Chili 150g</td>\n",
       "      <td>3</td>\n",
       "      <td>13.8</td>\n",
       "    </tr>\n",
       "    <tr>\n",
       "      <th>5</th>\n",
       "      <td>43604</td>\n",
       "      <td>4</td>\n",
       "      <td>4074</td>\n",
       "      <td>2982</td>\n",
       "      <td>57</td>\n",
       "      <td>Old El Paso Salsa   Dip Tomato Mild 300g</td>\n",
       "      <td>1</td>\n",
       "      <td>5.1</td>\n",
       "    </tr>\n",
       "    <tr>\n",
       "      <th>6</th>\n",
       "      <td>43601</td>\n",
       "      <td>4</td>\n",
       "      <td>4149</td>\n",
       "      <td>3333</td>\n",
       "      <td>16</td>\n",
       "      <td>Smiths Crinkle Chips Salt &amp; Vinegar 330g</td>\n",
       "      <td>1</td>\n",
       "      <td>5.7</td>\n",
       "    </tr>\n",
       "    <tr>\n",
       "      <th>7</th>\n",
       "      <td>43601</td>\n",
       "      <td>4</td>\n",
       "      <td>4196</td>\n",
       "      <td>3539</td>\n",
       "      <td>24</td>\n",
       "      <td>Grain Waves         Sweet Chilli 210g</td>\n",
       "      <td>1</td>\n",
       "      <td>3.6</td>\n",
       "    </tr>\n",
       "    <tr>\n",
       "      <th>8</th>\n",
       "      <td>43332</td>\n",
       "      <td>5</td>\n",
       "      <td>5026</td>\n",
       "      <td>4525</td>\n",
       "      <td>42</td>\n",
       "      <td>Doritos Corn Chip Mexican Jalapeno 150g</td>\n",
       "      <td>1</td>\n",
       "      <td>3.9</td>\n",
       "    </tr>\n",
       "    <tr>\n",
       "      <th>9</th>\n",
       "      <td>43330</td>\n",
       "      <td>7</td>\n",
       "      <td>7150</td>\n",
       "      <td>6900</td>\n",
       "      <td>52</td>\n",
       "      <td>Grain Waves Sour    Cream&amp;Chives 210G</td>\n",
       "      <td>2</td>\n",
       "      <td>7.2</td>\n",
       "    </tr>\n",
       "  </tbody>\n",
       "</table>\n",
       "</div>"
      ],
      "text/plain": [
       "    DATE  STORE_NBR  LYLTY_CARD_NBR  TXN_ID  PROD_NBR   \n",
       "0  43390          1            1000       1         5  \\\n",
       "1  43599          1            1307     348        66   \n",
       "2  43605          1            1343     383        61   \n",
       "3  43329          2            2373     974        69   \n",
       "4  43330          2            2426    1038       108   \n",
       "5  43604          4            4074    2982        57   \n",
       "6  43601          4            4149    3333        16   \n",
       "7  43601          4            4196    3539        24   \n",
       "8  43332          5            5026    4525        42   \n",
       "9  43330          7            7150    6900        52   \n",
       "\n",
       "                                  PROD_NAME  PROD_QTY  TOT_SALES  \n",
       "0    Natural Chip        Compny SeaSalt175g         2        6.0  \n",
       "1                  CCs Nacho Cheese    175g         3        6.3  \n",
       "2    Smiths Crinkle Cut  Chips Chicken 170g         2        2.9  \n",
       "3    Smiths Chip Thinly  S/Cream&Onion 175g         5       15.0  \n",
       "4  Kettle Tortilla ChpsHny&Jlpno Chili 150g         3       13.8  \n",
       "5  Old El Paso Salsa   Dip Tomato Mild 300g         1        5.1  \n",
       "6  Smiths Crinkle Chips Salt & Vinegar 330g         1        5.7  \n",
       "7     Grain Waves         Sweet Chilli 210g         1        3.6  \n",
       "8   Doritos Corn Chip Mexican Jalapeno 150g         1        3.9  \n",
       "9     Grain Waves Sour    Cream&Chives 210G         2        7.2  "
      ]
     },
     "execution_count": 7,
     "metadata": {},
     "output_type": "execute_result"
    }
   ],
   "source": [
    "# # Rename columns\n",
    "# transactionData.rename(columns={\n",
    "#     'DATE'          : 'transaction_date',\n",
    "#     'STORE_NBR'     : 'store_id',\n",
    "#     'LYLTY_CARD_NBR': 'loyalty_card_id',\n",
    "#     'TXN_ID'        : 'transaction_id',\n",
    "#     'PROD_NBR'      : 'product_id',\n",
    "#     'PROD_NAME'     : 'product_name',\n",
    "#     'PROD_QTY'      : 'product_quantity',\n",
    "#     'TOT_SALES'     : 'total_sales'\n",
    "#     }, inplace=True)\n",
    "\n",
    "# Look at the first 10 rows\n",
    "transactionData.head(10)"
   ]
  },
  {
   "cell_type": "markdown",
   "metadata": {},
   "source": [
    "- Let's check if columns we would expect to be numeric are in numeric form and date\n",
    "columns are in date format."
   ]
  },
  {
   "cell_type": "markdown",
   "metadata": {},
   "source": [
    "#### Examine transaction data"
   ]
  },
  {
   "cell_type": "code",
   "execution_count": 8,
   "metadata": {},
   "outputs": [
    {
     "name": "stdout",
     "output_type": "stream",
     "text": [
      "<class 'pandas.core.frame.DataFrame'>\n",
      "RangeIndex: 264836 entries, 0 to 264835\n",
      "Data columns (total 8 columns):\n",
      " #   Column          Non-Null Count   Dtype  \n",
      "---  ------          --------------   -----  \n",
      " 0   DATE            264836 non-null  int64  \n",
      " 1   STORE_NBR       264836 non-null  int64  \n",
      " 2   LYLTY_CARD_NBR  264836 non-null  int64  \n",
      " 3   TXN_ID          264836 non-null  int64  \n",
      " 4   PROD_NBR        264836 non-null  int64  \n",
      " 5   PROD_NAME       264836 non-null  object \n",
      " 6   PROD_QTY        264836 non-null  int64  \n",
      " 7   TOT_SALES       264836 non-null  float64\n",
      "dtypes: float64(1), int64(6), object(1)\n",
      "memory usage: 16.2+ MB\n"
     ]
    }
   ],
   "source": [
    "transactionData.info()"
   ]
  },
  {
   "cell_type": "markdown",
   "metadata": {},
   "source": [
    "- We can see that the `DATE` column is in an integer format. Let's change this to a\n",
    "date format.\n",
    "- We should check that we are looking at the right products by examining `PROD_NAME`."
   ]
  },
  {
   "cell_type": "markdown",
   "metadata": {},
   "source": [
    "#### Convert `DATE` column to a date format"
   ]
  },
  {
   "cell_type": "markdown",
   "metadata": {},
   "source": [
    "- A quick search online tells us that CSV and Excel integer dates begin on 30\n",
    "Dec 1899."
   ]
  },
  {
   "cell_type": "code",
   "execution_count": 9,
   "metadata": {},
   "outputs": [
    {
     "data": {
      "text/plain": [
       "count                           264836\n",
       "mean     2018-12-30 00:52:12.879215616\n",
       "min                2018-07-01 00:00:00\n",
       "25%                2018-09-30 00:00:00\n",
       "50%                2018-12-30 00:00:00\n",
       "75%                2019-03-31 00:00:00\n",
       "max                2019-06-30 00:00:00\n",
       "Name: DATE, dtype: object"
      ]
     },
     "execution_count": 9,
     "metadata": {},
     "output_type": "execute_result"
    }
   ],
   "source": [
    "# Convert 'DATE' column to datetime format\n",
    "transactionData['DATE'] = pd.to_datetime(transactionData['DATE'], origin='1899-12-30', unit='D')\n",
    "\n",
    "transactionData['DATE'].describe()"
   ]
  },
  {
   "cell_type": "markdown",
   "metadata": {},
   "source": [
    "#### Examine `PROD_NAME`"
   ]
  },
  {
   "cell_type": "code",
   "execution_count": 10,
   "metadata": {},
   "outputs": [
    {
     "data": {
      "text/plain": [
       "114"
      ]
     },
     "execution_count": 10,
     "metadata": {},
     "output_type": "execute_result"
    }
   ],
   "source": [
    "transactionData['PROD_NAME'].nunique()"
   ]
  },
  {
   "cell_type": "code",
   "execution_count": 11,
   "metadata": {},
   "outputs": [
    {
     "data": {
      "text/plain": [
       "PROD_NAME\n",
       "Kettle Mozzarella   Basil & Pesto 175g      0.01248\n",
       "Kettle Tortilla ChpsHny&Jlpno Chili 150g    0.01245\n",
       "Cobs Popd Swt/Chlli &Sr/Cream Chips 110g    0.01234\n",
       "Tyrrells Crisps     Ched & Chives 165g      0.01234\n",
       "Cobs Popd Sea Salt  Chips 110g              0.01233\n",
       "Kettle 135g Swt Pot Sea Salt                0.01230\n",
       "Tostitos Splash Of  Lime 175g               0.01228\n",
       "Infuzions Thai SweetChili PotatoMix 110g    0.01224\n",
       "Smiths Crnkle Chip  Orgnl Big Bag 380g      0.01221\n",
       "Thins Potato Chips  Hot & Spicy 175g        0.01219\n",
       "Kettle Sensations   Camembert & Fig 150g    0.01215\n",
       "Doritos Corn Chips  Cheese Supreme 170g     0.01215\n",
       "Pringles Barbeque   134g                    0.01212\n",
       "Doritos Corn Chip Mexican Jalapeno 150g     0.01210\n",
       "Kettle Sweet Chilli And Sour Cream 175g     0.01208\n",
       "Smiths Crinkle Chips Salt & Vinegar 330g    0.01207\n",
       "Thins Chips Light&  Tangy 175g              0.01204\n",
       "Dorito Corn Chp     Supreme 380g            0.01203\n",
       "Pringles Sweet&Spcy BBQ 134g                0.01200\n",
       "Infuzions BBQ Rib   Prawn Crackers 110g     0.01198\n",
       "Tyrrells Crisps     Lightly Salted 165g     0.01198\n",
       "Kettle Sea Salt     And Vinegar 175g        0.01198\n",
       "Doritos Corn Chip Southern Chicken 150g     0.01198\n",
       "Twisties Chicken270g                        0.01197\n",
       "Twisties Cheese     Burger 250g             0.01197\n",
       "Grain Waves         Sweet Chilli 210g       0.01196\n",
       "Pringles SourCream  Onion 134g              0.01194\n",
       "Doritos Corn Chips  Nacho Cheese 170g       0.01193\n",
       "Cobs Popd Sour Crm  &Chives Chips 110g      0.01193\n",
       "Kettle Original 175g                        0.01193\n",
       "Pringles Original   Crisps 134g             0.01192\n",
       "Cheezels Cheese 330g                        0.01189\n",
       "Kettle Honey Soy    Chicken 175g            0.01189\n",
       "Kettle Tortilla ChpsBtroot&Ricotta 150g     0.01188\n",
       "Tostitos Smoked     Chipotle 175g           0.01188\n",
       "Infzns Crn Crnchers Tangy Gcamole 110g      0.01187\n",
       "Smiths Crinkle      Original 330g           0.01186\n",
       "Kettle Tortilla ChpsFeta&Garlic 150g        0.01185\n",
       "Infuzions SourCream&Herbs Veg Strws 110g    0.01183\n",
       "Kettle Sensations   Siracha Lime 150g       0.01181\n",
       "Old El Paso Salsa   Dip Chnky Tom Ht300g    0.01180\n",
       "Doritos Corn Chips  Original 170g           0.01178\n",
       "Doritos Mexicana    170g                    0.01176\n",
       "Twisties Cheese     270g                    0.01176\n",
       "Thins Chips Seasonedchicken 175g            0.01176\n",
       "Old El Paso Salsa   Dip Tomato Med 300g     0.01176\n",
       "Pringles Mystery    Flavour 134g            0.01176\n",
       "Grain Waves Sour    Cream&Chives 210G       0.01172\n",
       "Pringles Chicken    Salt Crips 134g         0.01172\n",
       "Thins Chips Salt &  Vinegar 175g            0.01172\n",
       "Pringles Slt Vingar 134g                    0.01169\n",
       "Old El Paso Salsa   Dip Tomato Mild 300g    0.01165\n",
       "Kettle Sensations   BBQ&Maple 150g          0.01164\n",
       "Pringles Sthrn FriedChicken 134g            0.01164\n",
       "Tostitos Lightly    Salted 175g             0.01161\n",
       "Doritos Cheese      Supreme 330g            0.01152\n",
       "Kettle Chilli 175g                          0.01147\n",
       "Smiths Chip Thinly  Cut Original 175g       0.00609\n",
       "Snbts Whlgrn Crisps Cheddr&Mstrd 90g        0.00595\n",
       "Natural Chip Co     Tmato Hrb&Spce 175g     0.00594\n",
       "Burger Rings 220g                           0.00591\n",
       "Natural ChipCo Sea  Salt & Vinegr 175g      0.00585\n",
       "CCs Tasty Cheese    175g                    0.00581\n",
       "RRD SR Slow Rst     Pork Belly 150g         0.00576\n",
       "Smiths Thinly Cut   Roast Chicken 175g      0.00574\n",
       "RRD Sweet Chilli &  Sour Cream 165g         0.00572\n",
       "Woolworths Cheese   Rings 190g              0.00572\n",
       "CCs Original 175g                           0.00572\n",
       "RRD Honey Soy       Chicken 165g            0.00571\n",
       "Smith Crinkle Cut   Mac N Cheese 150g       0.00571\n",
       "WW Supreme Cheese   Corn Chips 200g         0.00570\n",
       "Infuzions Mango     Chutny Papadums 70g     0.00569\n",
       "RRD Chilli&         Coconut 150g            0.00569\n",
       "Smiths Crinkle Cut  Snag&Sauce 150g         0.00568\n",
       "Red Rock Deli Sp    Salt & Truffle 150G     0.00566\n",
       "CCs Nacho Cheese    175g                    0.00566\n",
       "WW Original Corn    Chips 200g              0.00565\n",
       "Red Rock Deli Thai  Chilli&Lime 150g        0.00565\n",
       "Woolworths Mild     Salsa 300g              0.00563\n",
       "Smiths Crinkle Cut  Chips Barbecue 170g     0.00562\n",
       "WW Original Stacked Chips 160g              0.00561\n",
       "Smiths Crinkle Cut  Chips Chicken 170g      0.00560\n",
       "WW Sour Cream &OnionStacked Chips 160g      0.00560\n",
       "Smiths Crinkle Cut  Chips Chs&Onion170g     0.00559\n",
       "Cheetos Chs & Bacon Balls 190g              0.00558\n",
       "RRD Salt & Vinegar  165g                    0.00557\n",
       "RRD Lime & Pepper   165g                    0.00556\n",
       "Smiths Chip Thinly  S/Cream&Onion 175g      0.00556\n",
       "Doritos Salsa Mild  300g                    0.00556\n",
       "Smiths Crinkle Cut  Tomato Salsa 150g       0.00555\n",
       "WW D/Style Chip     Sea Salt 200g           0.00555\n",
       "Natural Chip        Compny SeaSalt175g      0.00554\n",
       "GrnWves Plus Btroot & Chilli Jam 180g       0.00554\n",
       "WW Crinkle Cut      Chicken 175g            0.00554\n",
       "Smiths Thinly       Swt Chli&S/Cream175G    0.00552\n",
       "Smiths Crinkle Cut  Chips Original 170g     0.00552\n",
       "Natural ChipCo      Hony Soy Chckn175g      0.00551\n",
       "Red Rock Deli SR    Salsa & Mzzrlla 150g    0.00551\n",
       "Smiths Crinkle Cut  Salt & Vinegar 170g     0.00549\n",
       "RRD Steak &         Chimuchurri 150g        0.00549\n",
       "Cheezels Cheese Box 125g                    0.00549\n",
       "Smith Crinkle Cut   Bolognese 150g          0.00548\n",
       "Doritos Salsa       Medium 300g             0.00547\n",
       "Cheetos Puffs 165g                          0.00547\n",
       "Thins Chips         Originl saltd 175g      0.00544\n",
       "Smiths Chip Thinly  CutSalt/Vinegr175g      0.00544\n",
       "Smiths Crinkle Cut  French OnionDip 150g    0.00543\n",
       "Red Rock Deli Chikn&Garlic Aioli 150g       0.00541\n",
       "Sunbites Whlegrn    Crisps Frch/Onin 90g    0.00541\n",
       "RRD Pc Sea Salt     165g                    0.00540\n",
       "Woolworths Medium   Salsa 300g              0.00540\n",
       "NCC Sour Cream &    Garden Chives 175g      0.00536\n",
       "French Fries Potato Chips 175g              0.00535\n",
       "WW Crinkle Cut      Original 175g           0.00532\n",
       "Name: proportion, dtype: float64"
      ]
     },
     "execution_count": 11,
     "metadata": {},
     "output_type": "execute_result"
    }
   ],
   "source": [
    "transactionData['PROD_NAME'].value_counts(normalize=True).round(5)"
   ]
  },
  {
   "cell_type": "markdown",
   "metadata": {},
   "source": [
    "- Looks like we are definitely looking at potato chips but how can we check that\n",
    "these are all chips? We can do some basic text analysis by summarising the\n",
    "individual words in the product name, `PROD_NAME`.\n",
    "- Examine the words in `PROD_NAME` to see if there are any incorrect entries such as products that are not chips"
   ]
  },
  {
   "cell_type": "code",
   "execution_count": 12,
   "metadata": {},
   "outputs": [],
   "source": [
    "# Extract product words\n",
    "productWords = transactionData['PROD_NAME'].str.split().apply(pd.Series, 1).stack()\n",
    "productWords.index = productWords.index.droplevel(-1)\n",
    "productWords.name = 'words'"
   ]
  },
  {
   "cell_type": "markdown",
   "metadata": {},
   "source": [
    "- As we are only interested in words that will tell us if the product is chips or\n",
    "not, let's remove all words with digits and special characters such as '&' from our\n",
    "set of product words."
   ]
  },
  {
   "cell_type": "code",
   "execution_count": 14,
   "metadata": {},
   "outputs": [],
   "source": [
    "# Remove all words with digits\n",
    "productWords = productWords.str.replace(r'\\d+', '', regex=True)\n",
    "\n",
    "# Remove all words with special characters\n",
    "productWords = productWords.str.replace(r'[^\\w\\s]', '', regex=True)\n",
    "\n",
    "# Remove all words that are just empty spaces\n",
    "productWords = productWords[productWords.str.replace(' ', '').str.isalpha()]"
   ]
  },
  {
   "cell_type": "markdown",
   "metadata": {},
   "source": [
    "- Let's look at the most common words by counting the number of times a word\n",
    "appears and sorting them by this frequency in order of highest to lowest frequency."
   ]
  },
  {
   "cell_type": "code",
   "execution_count": 15,
   "metadata": {},
   "outputs": [],
   "source": [
    "# Count the frequency of each word\n",
    "wordCounts = productWords.value_counts().reset_index()\n",
    "wordCounts.columns = ['words', 'frequency']\n",
    "\n",
    "# Sort the words by frequency\n",
    "wordCounts = wordCounts.sort_values(by='frequency', ascending=False)"
   ]
  },
  {
   "cell_type": "code",
   "execution_count": 16,
   "metadata": {},
   "outputs": [],
   "source": [
    "# Remove all words that are alphabets, conjunctions, and prepositions\n",
    "wordCounts = wordCounts[~wordCounts['words'].isin(['g', 'G', 'And', 'Of'])]"
   ]
  },
  {
   "cell_type": "code",
   "execution_count": 29,
   "metadata": {},
   "outputs": [
    {
     "data": {
      "text/html": [
       "<div>\n",
       "<style scoped>\n",
       "    .dataframe tbody tr th:only-of-type {\n",
       "        vertical-align: middle;\n",
       "    }\n",
       "\n",
       "    .dataframe tbody tr th {\n",
       "        vertical-align: top;\n",
       "    }\n",
       "\n",
       "    .dataframe thead th {\n",
       "        text-align: right;\n",
       "    }\n",
       "</style>\n",
       "<table border=\"1\" class=\"dataframe\">\n",
       "  <thead>\n",
       "    <tr style=\"text-align: right;\">\n",
       "      <th></th>\n",
       "      <th>words</th>\n",
       "      <th>frequency</th>\n",
       "    </tr>\n",
       "  </thead>\n",
       "  <tbody>\n",
       "    <tr>\n",
       "      <th>1</th>\n",
       "      <td>Chips</td>\n",
       "      <td>49770</td>\n",
       "    </tr>\n",
       "    <tr>\n",
       "      <th>2</th>\n",
       "      <td>Kettle</td>\n",
       "      <td>41288</td>\n",
       "    </tr>\n",
       "    <tr>\n",
       "      <th>3</th>\n",
       "      <td>Smiths</td>\n",
       "      <td>28860</td>\n",
       "    </tr>\n",
       "    <tr>\n",
       "      <th>4</th>\n",
       "      <td>Salt</td>\n",
       "      <td>27976</td>\n",
       "    </tr>\n",
       "    <tr>\n",
       "      <th>5</th>\n",
       "      <td>Cheese</td>\n",
       "      <td>27890</td>\n",
       "    </tr>\n",
       "    <tr>\n",
       "      <th>6</th>\n",
       "      <td>Pringles</td>\n",
       "      <td>25102</td>\n",
       "    </tr>\n",
       "    <tr>\n",
       "      <th>7</th>\n",
       "      <td>Doritos</td>\n",
       "      <td>24962</td>\n",
       "    </tr>\n",
       "    <tr>\n",
       "      <th>8</th>\n",
       "      <td>Crinkle</td>\n",
       "      <td>23960</td>\n",
       "    </tr>\n",
       "    <tr>\n",
       "      <th>9</th>\n",
       "      <td>Corn</td>\n",
       "      <td>22063</td>\n",
       "    </tr>\n",
       "    <tr>\n",
       "      <th>10</th>\n",
       "      <td>Original</td>\n",
       "      <td>21560</td>\n",
       "    </tr>\n",
       "    <tr>\n",
       "      <th>11</th>\n",
       "      <td>Cut</td>\n",
       "      <td>20754</td>\n",
       "    </tr>\n",
       "    <tr>\n",
       "      <th>12</th>\n",
       "      <td>Chip</td>\n",
       "      <td>18645</td>\n",
       "    </tr>\n",
       "    <tr>\n",
       "      <th>13</th>\n",
       "      <td>Salsa</td>\n",
       "      <td>18094</td>\n",
       "    </tr>\n",
       "  </tbody>\n",
       "</table>\n",
       "</div>"
      ],
      "text/plain": [
       "       words  frequency\n",
       "1      Chips      49770\n",
       "2     Kettle      41288\n",
       "3     Smiths      28860\n",
       "4       Salt      27976\n",
       "5     Cheese      27890\n",
       "6   Pringles      25102\n",
       "7    Doritos      24962\n",
       "8    Crinkle      23960\n",
       "9       Corn      22063\n",
       "10  Original      21560\n",
       "11       Cut      20754\n",
       "12      Chip      18645\n",
       "13     Salsa      18094"
      ]
     },
     "execution_count": 29,
     "metadata": {},
     "output_type": "execute_result"
    }
   ],
   "source": [
    "wordCounts.head(13)"
   ]
  },
  {
   "cell_type": "markdown",
   "metadata": {},
   "source": [
    "- There are salsa products in the dataset but we are only interested in the chips\n",
    "category, so let's remove these."
   ]
  },
  {
   "cell_type": "markdown",
   "metadata": {},
   "source": [
    "#### Remove salsa products"
   ]
  },
  {
   "cell_type": "code",
   "execution_count": 24,
   "metadata": {},
   "outputs": [],
   "source": [
    "# Remove salsa products\n",
    "transactionData['Salsa'] = transactionData['PROD_NAME'].str.contains('Salsa', case=False)\n",
    "transactionData = transactionData[~transactionData['Salsa']]\n",
    "transactionData.drop('Salsa', axis=1, inplace=True)"
   ]
  },
  {
   "cell_type": "markdown",
   "metadata": {},
   "source": [
    "- Next, we can use `describe()` to check summary statistics such as mean, min and max\n",
    "values for each feature to see if there are any obvious outliers in the data and if\n",
    "there are any nulls in any of the columns (`NA's : number of nulls` will appear in\n",
    "the output if there are any nulls)."
   ]
  },
  {
   "cell_type": "code",
   "execution_count": 26,
   "metadata": {},
   "outputs": [
    {
     "data": {
      "text/html": [
       "<div>\n",
       "<style scoped>\n",
       "    .dataframe tbody tr th:only-of-type {\n",
       "        vertical-align: middle;\n",
       "    }\n",
       "\n",
       "    .dataframe tbody tr th {\n",
       "        vertical-align: top;\n",
       "    }\n",
       "\n",
       "    .dataframe thead th {\n",
       "        text-align: right;\n",
       "    }\n",
       "</style>\n",
       "<table border=\"1\" class=\"dataframe\">\n",
       "  <thead>\n",
       "    <tr style=\"text-align: right;\">\n",
       "      <th></th>\n",
       "      <th>DATE</th>\n",
       "      <th>STORE_NBR</th>\n",
       "      <th>LYLTY_CARD_NBR</th>\n",
       "      <th>TXN_ID</th>\n",
       "      <th>PROD_NBR</th>\n",
       "      <th>PROD_NAME</th>\n",
       "      <th>PROD_QTY</th>\n",
       "      <th>TOT_SALES</th>\n",
       "    </tr>\n",
       "  </thead>\n",
       "  <tbody>\n",
       "    <tr>\n",
       "      <th>count</th>\n",
       "      <td>246742</td>\n",
       "      <td>246742.000000</td>\n",
       "      <td>2.467420e+05</td>\n",
       "      <td>2.467420e+05</td>\n",
       "      <td>246742.000000</td>\n",
       "      <td>246742</td>\n",
       "      <td>246742.000000</td>\n",
       "      <td>246742.000000</td>\n",
       "    </tr>\n",
       "    <tr>\n",
       "      <th>unique</th>\n",
       "      <td>NaN</td>\n",
       "      <td>NaN</td>\n",
       "      <td>NaN</td>\n",
       "      <td>NaN</td>\n",
       "      <td>NaN</td>\n",
       "      <td>105</td>\n",
       "      <td>NaN</td>\n",
       "      <td>NaN</td>\n",
       "    </tr>\n",
       "    <tr>\n",
       "      <th>top</th>\n",
       "      <td>NaN</td>\n",
       "      <td>NaN</td>\n",
       "      <td>NaN</td>\n",
       "      <td>NaN</td>\n",
       "      <td>NaN</td>\n",
       "      <td>Kettle Mozzarella   Basil &amp; Pesto 175g</td>\n",
       "      <td>NaN</td>\n",
       "      <td>NaN</td>\n",
       "    </tr>\n",
       "    <tr>\n",
       "      <th>freq</th>\n",
       "      <td>NaN</td>\n",
       "      <td>NaN</td>\n",
       "      <td>NaN</td>\n",
       "      <td>NaN</td>\n",
       "      <td>NaN</td>\n",
       "      <td>3304</td>\n",
       "      <td>NaN</td>\n",
       "      <td>NaN</td>\n",
       "    </tr>\n",
       "    <tr>\n",
       "      <th>mean</th>\n",
       "      <td>2018-12-30 01:19:01.211467520</td>\n",
       "      <td>135.051098</td>\n",
       "      <td>1.355310e+05</td>\n",
       "      <td>1.351311e+05</td>\n",
       "      <td>56.351789</td>\n",
       "      <td>NaN</td>\n",
       "      <td>1.908062</td>\n",
       "      <td>7.321322</td>\n",
       "    </tr>\n",
       "    <tr>\n",
       "      <th>min</th>\n",
       "      <td>2018-07-01 00:00:00</td>\n",
       "      <td>1.000000</td>\n",
       "      <td>1.000000e+03</td>\n",
       "      <td>1.000000e+00</td>\n",
       "      <td>1.000000</td>\n",
       "      <td>NaN</td>\n",
       "      <td>1.000000</td>\n",
       "      <td>1.700000</td>\n",
       "    </tr>\n",
       "    <tr>\n",
       "      <th>25%</th>\n",
       "      <td>2018-09-30 00:00:00</td>\n",
       "      <td>70.000000</td>\n",
       "      <td>7.001500e+04</td>\n",
       "      <td>6.756925e+04</td>\n",
       "      <td>26.000000</td>\n",
       "      <td>NaN</td>\n",
       "      <td>2.000000</td>\n",
       "      <td>5.800000</td>\n",
       "    </tr>\n",
       "    <tr>\n",
       "      <th>50%</th>\n",
       "      <td>2018-12-30 00:00:00</td>\n",
       "      <td>130.000000</td>\n",
       "      <td>1.303670e+05</td>\n",
       "      <td>1.351830e+05</td>\n",
       "      <td>53.000000</td>\n",
       "      <td>NaN</td>\n",
       "      <td>2.000000</td>\n",
       "      <td>7.400000</td>\n",
       "    </tr>\n",
       "    <tr>\n",
       "      <th>75%</th>\n",
       "      <td>2019-03-31 00:00:00</td>\n",
       "      <td>203.000000</td>\n",
       "      <td>2.030840e+05</td>\n",
       "      <td>2.026538e+05</td>\n",
       "      <td>87.000000</td>\n",
       "      <td>NaN</td>\n",
       "      <td>2.000000</td>\n",
       "      <td>8.800000</td>\n",
       "    </tr>\n",
       "    <tr>\n",
       "      <th>max</th>\n",
       "      <td>2019-06-30 00:00:00</td>\n",
       "      <td>272.000000</td>\n",
       "      <td>2.373711e+06</td>\n",
       "      <td>2.415841e+06</td>\n",
       "      <td>114.000000</td>\n",
       "      <td>NaN</td>\n",
       "      <td>200.000000</td>\n",
       "      <td>650.000000</td>\n",
       "    </tr>\n",
       "    <tr>\n",
       "      <th>std</th>\n",
       "      <td>NaN</td>\n",
       "      <td>76.787096</td>\n",
       "      <td>8.071528e+04</td>\n",
       "      <td>7.814772e+04</td>\n",
       "      <td>33.695428</td>\n",
       "      <td>NaN</td>\n",
       "      <td>0.659831</td>\n",
       "      <td>3.077828</td>\n",
       "    </tr>\n",
       "  </tbody>\n",
       "</table>\n",
       "</div>"
      ],
      "text/plain": [
       "                                 DATE      STORE_NBR  LYLTY_CARD_NBR   \n",
       "count                          246742  246742.000000    2.467420e+05  \\\n",
       "unique                            NaN            NaN             NaN   \n",
       "top                               NaN            NaN             NaN   \n",
       "freq                              NaN            NaN             NaN   \n",
       "mean    2018-12-30 01:19:01.211467520     135.051098    1.355310e+05   \n",
       "min               2018-07-01 00:00:00       1.000000    1.000000e+03   \n",
       "25%               2018-09-30 00:00:00      70.000000    7.001500e+04   \n",
       "50%               2018-12-30 00:00:00     130.000000    1.303670e+05   \n",
       "75%               2019-03-31 00:00:00     203.000000    2.030840e+05   \n",
       "max               2019-06-30 00:00:00     272.000000    2.373711e+06   \n",
       "std                               NaN      76.787096    8.071528e+04   \n",
       "\n",
       "              TXN_ID       PROD_NBR                               PROD_NAME   \n",
       "count   2.467420e+05  246742.000000                                  246742  \\\n",
       "unique           NaN            NaN                                     105   \n",
       "top              NaN            NaN  Kettle Mozzarella   Basil & Pesto 175g   \n",
       "freq             NaN            NaN                                    3304   \n",
       "mean    1.351311e+05      56.351789                                     NaN   \n",
       "min     1.000000e+00       1.000000                                     NaN   \n",
       "25%     6.756925e+04      26.000000                                     NaN   \n",
       "50%     1.351830e+05      53.000000                                     NaN   \n",
       "75%     2.026538e+05      87.000000                                     NaN   \n",
       "max     2.415841e+06     114.000000                                     NaN   \n",
       "std     7.814772e+04      33.695428                                     NaN   \n",
       "\n",
       "             PROD_QTY      TOT_SALES  \n",
       "count   246742.000000  246742.000000  \n",
       "unique            NaN            NaN  \n",
       "top               NaN            NaN  \n",
       "freq              NaN            NaN  \n",
       "mean         1.908062       7.321322  \n",
       "min          1.000000       1.700000  \n",
       "25%          2.000000       5.800000  \n",
       "50%          2.000000       7.400000  \n",
       "75%          2.000000       8.800000  \n",
       "max        200.000000     650.000000  \n",
       "std          0.659831       3.077828  "
      ]
     },
     "execution_count": 26,
     "metadata": {},
     "output_type": "execute_result"
    }
   ],
   "source": [
    "transactionData.describe(include='all')"
   ]
  },
  {
   "cell_type": "markdown",
   "metadata": {},
   "source": [
    "- There are no nulls in the columns but product quantity, `PROD_QTY`, appears to have an outlier which we should investigate further. Let's investigate further the case where 200\n",
    "packets of chips are bought in one transaction."
   ]
  },
  {
   "cell_type": "markdown",
   "metadata": {},
   "source": [
    "#### Filter the dataset to find the outlier"
   ]
  },
  {
   "cell_type": "code",
   "execution_count": 27,
   "metadata": {},
   "outputs": [
    {
     "data": {
      "text/html": [
       "<div>\n",
       "<style scoped>\n",
       "    .dataframe tbody tr th:only-of-type {\n",
       "        vertical-align: middle;\n",
       "    }\n",
       "\n",
       "    .dataframe tbody tr th {\n",
       "        vertical-align: top;\n",
       "    }\n",
       "\n",
       "    .dataframe thead th {\n",
       "        text-align: right;\n",
       "    }\n",
       "</style>\n",
       "<table border=\"1\" class=\"dataframe\">\n",
       "  <thead>\n",
       "    <tr style=\"text-align: right;\">\n",
       "      <th></th>\n",
       "      <th>DATE</th>\n",
       "      <th>STORE_NBR</th>\n",
       "      <th>LYLTY_CARD_NBR</th>\n",
       "      <th>TXN_ID</th>\n",
       "      <th>PROD_NBR</th>\n",
       "      <th>PROD_NAME</th>\n",
       "      <th>PROD_QTY</th>\n",
       "      <th>TOT_SALES</th>\n",
       "    </tr>\n",
       "  </thead>\n",
       "  <tbody>\n",
       "    <tr>\n",
       "      <th>69762</th>\n",
       "      <td>2018-08-19</td>\n",
       "      <td>226</td>\n",
       "      <td>226000</td>\n",
       "      <td>226201</td>\n",
       "      <td>4</td>\n",
       "      <td>Dorito Corn Chp     Supreme 380g</td>\n",
       "      <td>200</td>\n",
       "      <td>650.0</td>\n",
       "    </tr>\n",
       "    <tr>\n",
       "      <th>69763</th>\n",
       "      <td>2019-05-20</td>\n",
       "      <td>226</td>\n",
       "      <td>226000</td>\n",
       "      <td>226210</td>\n",
       "      <td>4</td>\n",
       "      <td>Dorito Corn Chp     Supreme 380g</td>\n",
       "      <td>200</td>\n",
       "      <td>650.0</td>\n",
       "    </tr>\n",
       "  </tbody>\n",
       "</table>\n",
       "</div>"
      ],
      "text/plain": [
       "            DATE  STORE_NBR  LYLTY_CARD_NBR  TXN_ID  PROD_NBR   \n",
       "69762 2018-08-19        226          226000  226201         4  \\\n",
       "69763 2019-05-20        226          226000  226210         4   \n",
       "\n",
       "                              PROD_NAME  PROD_QTY  TOT_SALES  \n",
       "69762  Dorito Corn Chp     Supreme 380g       200      650.0  \n",
       "69763  Dorito Corn Chp     Supreme 380g       200      650.0  "
      ]
     },
     "execution_count": 27,
     "metadata": {},
     "output_type": "execute_result"
    }
   ],
   "source": [
    "transactionData[transactionData['PROD_QTY'] == 200]"
   ]
  },
  {
   "cell_type": "markdown",
   "metadata": {},
   "source": [
    "- There are two transactions where 200 packets of chips are bought in one transaction\n",
    "and both of these transactions were by the same customer.\n",
    "- Let's see if the customer has had other transactions."
   ]
  },
  {
   "cell_type": "code",
   "execution_count": 28,
   "metadata": {},
   "outputs": [
    {
     "data": {
      "text/html": [
       "<div>\n",
       "<style scoped>\n",
       "    .dataframe tbody tr th:only-of-type {\n",
       "        vertical-align: middle;\n",
       "    }\n",
       "\n",
       "    .dataframe tbody tr th {\n",
       "        vertical-align: top;\n",
       "    }\n",
       "\n",
       "    .dataframe thead th {\n",
       "        text-align: right;\n",
       "    }\n",
       "</style>\n",
       "<table border=\"1\" class=\"dataframe\">\n",
       "  <thead>\n",
       "    <tr style=\"text-align: right;\">\n",
       "      <th></th>\n",
       "      <th>DATE</th>\n",
       "      <th>STORE_NBR</th>\n",
       "      <th>LYLTY_CARD_NBR</th>\n",
       "      <th>TXN_ID</th>\n",
       "      <th>PROD_NBR</th>\n",
       "      <th>PROD_NAME</th>\n",
       "      <th>PROD_QTY</th>\n",
       "      <th>TOT_SALES</th>\n",
       "    </tr>\n",
       "  </thead>\n",
       "  <tbody>\n",
       "    <tr>\n",
       "      <th>69762</th>\n",
       "      <td>2018-08-19</td>\n",
       "      <td>226</td>\n",
       "      <td>226000</td>\n",
       "      <td>226201</td>\n",
       "      <td>4</td>\n",
       "      <td>Dorito Corn Chp     Supreme 380g</td>\n",
       "      <td>200</td>\n",
       "      <td>650.0</td>\n",
       "    </tr>\n",
       "    <tr>\n",
       "      <th>69763</th>\n",
       "      <td>2019-05-20</td>\n",
       "      <td>226</td>\n",
       "      <td>226000</td>\n",
       "      <td>226210</td>\n",
       "      <td>4</td>\n",
       "      <td>Dorito Corn Chp     Supreme 380g</td>\n",
       "      <td>200</td>\n",
       "      <td>650.0</td>\n",
       "    </tr>\n",
       "  </tbody>\n",
       "</table>\n",
       "</div>"
      ],
      "text/plain": [
       "            DATE  STORE_NBR  LYLTY_CARD_NBR  TXN_ID  PROD_NBR   \n",
       "69762 2018-08-19        226          226000  226201         4  \\\n",
       "69763 2019-05-20        226          226000  226210         4   \n",
       "\n",
       "                              PROD_NAME  PROD_QTY  TOT_SALES  \n",
       "69762  Dorito Corn Chp     Supreme 380g       200      650.0  \n",
       "69763  Dorito Corn Chp     Supreme 380g       200      650.0  "
      ]
     },
     "execution_count": 28,
     "metadata": {},
     "output_type": "execute_result"
    }
   ],
   "source": [
    "transactionData[transactionData['LYLTY_CARD_NBR'] == 226000]"
   ]
  },
  {
   "cell_type": "markdown",
   "metadata": {},
   "source": [
    "- It looks like this customer has only had the two transactions over the year and is\n",
    "not an ordinary retail customer. The customer might be buying chips for commercial\n",
    "purposes instead. We'll remove this loyalty card number from further analysis."
   ]
  },
  {
   "cell_type": "markdown",
   "metadata": {},
   "source": [
    "#### Filter out the customer based on the loyalty card number"
   ]
  },
  {
   "cell_type": "code",
   "execution_count": null,
   "metadata": {},
   "outputs": [],
   "source": [
    "transactionData = transactionData[~transactionData['LYLTY_CARD_NBR'] == 226000]"
   ]
  },
  {
   "cell_type": "markdown",
   "metadata": {},
   "source": [
    "#### Re-examine transaction data"
   ]
  },
  {
   "cell_type": "code",
   "execution_count": null,
   "metadata": {},
   "outputs": [],
   "source": []
  },
  {
   "cell_type": "markdown",
   "metadata": {},
   "source": [
    "- That's better. Now, let's look at the number of transaction lines over time to see\n",
    "if there are any obvious data issues such as missing data."
   ]
  },
  {
   "cell_type": "markdown",
   "metadata": {},
   "source": [
    "#### Count the number of transactions by `DATE`"
   ]
  },
  {
   "cell_type": "code",
   "execution_count": 33,
   "metadata": {},
   "outputs": [
    {
     "data": {
      "text/plain": [
       "(364,)"
      ]
     },
     "execution_count": 33,
     "metadata": {},
     "output_type": "execute_result"
    }
   ],
   "source": [
    "transactionData.groupby('DATE')['TXN_ID'].count().shape"
   ]
  },
  {
   "cell_type": "markdown",
   "metadata": {},
   "source": [
    "- There's only 364 rows, meaning only 364 dates which indicates a missing date. Let's\n",
    "create a sequence of dates from 1 Jul 2018 to 30 Jun 2019 and use this to create a\n",
    "chart of number of transactions over time to find the missing date."
   ]
  },
  {
   "cell_type": "markdown",
   "metadata": {},
   "source": [
    "#### Create a sequence of dates and join this the count of transactions by `DATE`"
   ]
  },
  {
   "cell_type": "code",
   "execution_count": 61,
   "metadata": {},
   "outputs": [
    {
     "data": {
      "text/html": [
       "<div>\n",
       "<style scoped>\n",
       "    .dataframe tbody tr th:only-of-type {\n",
       "        vertical-align: middle;\n",
       "    }\n",
       "\n",
       "    .dataframe tbody tr th {\n",
       "        vertical-align: top;\n",
       "    }\n",
       "\n",
       "    .dataframe thead th {\n",
       "        text-align: right;\n",
       "    }\n",
       "</style>\n",
       "<table border=\"1\" class=\"dataframe\">\n",
       "  <thead>\n",
       "    <tr style=\"text-align: right;\">\n",
       "      <th></th>\n",
       "      <th>DATE</th>\n",
       "      <th>TXN_DATE</th>\n",
       "    </tr>\n",
       "  </thead>\n",
       "  <tbody>\n",
       "    <tr>\n",
       "      <th>0</th>\n",
       "      <td>2018-07-01</td>\n",
       "      <td>663.0</td>\n",
       "    </tr>\n",
       "    <tr>\n",
       "      <th>1</th>\n",
       "      <td>2018-07-02</td>\n",
       "      <td>650.0</td>\n",
       "    </tr>\n",
       "    <tr>\n",
       "      <th>2</th>\n",
       "      <td>2018-07-03</td>\n",
       "      <td>674.0</td>\n",
       "    </tr>\n",
       "    <tr>\n",
       "      <th>3</th>\n",
       "      <td>2018-07-04</td>\n",
       "      <td>669.0</td>\n",
       "    </tr>\n",
       "    <tr>\n",
       "      <th>4</th>\n",
       "      <td>2018-07-05</td>\n",
       "      <td>660.0</td>\n",
       "    </tr>\n",
       "  </tbody>\n",
       "</table>\n",
       "</div>"
      ],
      "text/plain": [
       "        DATE  TXN_DATE\n",
       "0 2018-07-01     663.0\n",
       "1 2018-07-02     650.0\n",
       "2 2018-07-03     674.0\n",
       "3 2018-07-04     669.0\n",
       "4 2018-07-05     660.0"
      ]
     },
     "execution_count": 61,
     "metadata": {},
     "output_type": "execute_result"
    }
   ],
   "source": [
    "# Create a date range from 1 July 2018 to 30 June 2019\n",
    "date_range = pd.date_range(start='2018-07-01', end='2019-06-30')\n",
    "\n",
    "# Convert the date range to a DataFrame\n",
    "date_df = pd.DataFrame(date_range, columns=['DATE'])\n",
    "\n",
    "# Set the 'DATE' column as the index\n",
    "date_df.set_index('DATE', inplace=True)\n",
    "\n",
    "# Join the 'transactionData' DataFrame with the 'date_df' DataFrame\n",
    "# using a left join. This will fill in missing days with NaN values.\n",
    "transaction_date = transactionData.groupby('DATE').size()\n",
    "transaction_date.name = 'TXN_DATE'\n",
    "joined_df = date_df.join(transaction_date, how='left')\n",
    "\n",
    "# Reset the index\n",
    "joined_df.reset_index(inplace=True)\n",
    "joined_df.head()"
   ]
  },
  {
   "cell_type": "code",
   "execution_count": 63,
   "metadata": {},
   "outputs": [
    {
     "data": {
      "text/html": [
       "<div>\n",
       "<style scoped>\n",
       "    .dataframe tbody tr th:only-of-type {\n",
       "        vertical-align: middle;\n",
       "    }\n",
       "\n",
       "    .dataframe tbody tr th {\n",
       "        vertical-align: top;\n",
       "    }\n",
       "\n",
       "    .dataframe thead th {\n",
       "        text-align: right;\n",
       "    }\n",
       "</style>\n",
       "<table border=\"1\" class=\"dataframe\">\n",
       "  <thead>\n",
       "    <tr style=\"text-align: right;\">\n",
       "      <th></th>\n",
       "      <th>DATE</th>\n",
       "      <th>TXN_DATE</th>\n",
       "    </tr>\n",
       "  </thead>\n",
       "  <tbody>\n",
       "    <tr>\n",
       "      <th>177</th>\n",
       "      <td>2018-12-25</td>\n",
       "      <td>NaN</td>\n",
       "    </tr>\n",
       "  </tbody>\n",
       "</table>\n",
       "</div>"
      ],
      "text/plain": [
       "          DATE  TXN_DATE\n",
       "177 2018-12-25       NaN"
      ]
     },
     "execution_count": 63,
     "metadata": {},
     "output_type": "execute_result"
    }
   ],
   "source": [
    "joined_df[joined_df['TXN_DATE'].isna() == True]"
   ]
  },
  {
   "cell_type": "markdown",
   "metadata": {},
   "source": [
    "#### Plot transactions over time"
   ]
  },
  {
   "cell_type": "code",
   "execution_count": 50,
   "metadata": {},
   "outputs": [
    {
     "data": {
      "image/png": "[encoded data removed]",
      "text/plain": [
       "<Figure size 640x480 with 1 Axes>"
      ]
     },
     "metadata": {},
     "output_type": "display_data"
    }
   ],
   "source": [
    "from matplotlib.dates import DateFormatter\n",
    "\n",
    "transactions_by_day = joined_df.copy()\n",
    "fig, ax = plt.subplots()\n",
    "ax.plot(joined_df.index, joined_df.values)\n",
    "ax.xaxis.set_major_formatter(DateFormatter('%Y-%m'))\n",
    "plt.title('Transactions over time', fontsize=20)\n",
    "plt.xlabel('\\nDay', fontsize=18)\n",
    "plt.ylabel('Number of transactions\\n', fontsize=18)\n",
    "plt.xticks(fontsize=14, rotation=90)\n",
    "plt.yticks(fontsize=14)\n",
    "\n",
    "plt.show()"
   ]
  },
  {
   "cell_type": "markdown",
   "metadata": {},
   "source": [
    "- We can see that there is an increase in purchases in December and a break in late\n",
    "December. Let's zoom in on this."
   ]
  },
  {
   "cell_type": "markdown",
   "metadata": {},
   "source": [
    "### Customer data"
   ]
  },
  {
   "cell_type": "code",
   "execution_count": 18,
   "metadata": {},
   "outputs": [
    {
     "data": {
      "text/plain": [
       "(72637, 3)"
      ]
     },
     "execution_count": 18,
     "metadata": {},
     "output_type": "execute_result"
    }
   ],
   "source": [
    "customerData.shape"
   ]
  },
  {
   "cell_type": "code",
   "execution_count": 19,
   "metadata": {},
   "outputs": [
    {
     "data": {
      "text/plain": [
       "Index(['LYLTY_CARD_NBR', 'LIFESTAGE', 'PREMIUM_CUSTOMER'], dtype='object')"
      ]
     },
     "execution_count": 19,
     "metadata": {},
     "output_type": "execute_result"
    }
   ],
   "source": [
    "customerData.columns"
   ]
  },
  {
   "cell_type": "code",
   "execution_count": 20,
   "metadata": {},
   "outputs": [
    {
     "data": {
      "text/html": [
       "<div>\n",
       "<style scoped>\n",
       "    .dataframe tbody tr th:only-of-type {\n",
       "        vertical-align: middle;\n",
       "    }\n",
       "\n",
       "    .dataframe tbody tr th {\n",
       "        vertical-align: top;\n",
       "    }\n",
       "\n",
       "    .dataframe thead th {\n",
       "        text-align: right;\n",
       "    }\n",
       "</style>\n",
       "<table border=\"1\" class=\"dataframe\">\n",
       "  <thead>\n",
       "    <tr style=\"text-align: right;\">\n",
       "      <th></th>\n",
       "      <th>LYLTY_CARD_NBR</th>\n",
       "      <th>LIFESTAGE</th>\n",
       "      <th>PREMIUM_CUSTOMER</th>\n",
       "    </tr>\n",
       "  </thead>\n",
       "  <tbody>\n",
       "    <tr>\n",
       "      <th>0</th>\n",
       "      <td>1000</td>\n",
       "      <td>YOUNG SINGLES/COUPLES</td>\n",
       "      <td>Premium</td>\n",
       "    </tr>\n",
       "    <tr>\n",
       "      <th>1</th>\n",
       "      <td>1002</td>\n",
       "      <td>YOUNG SINGLES/COUPLES</td>\n",
       "      <td>Mainstream</td>\n",
       "    </tr>\n",
       "    <tr>\n",
       "      <th>2</th>\n",
       "      <td>1003</td>\n",
       "      <td>YOUNG FAMILIES</td>\n",
       "      <td>Budget</td>\n",
       "    </tr>\n",
       "    <tr>\n",
       "      <th>3</th>\n",
       "      <td>1004</td>\n",
       "      <td>OLDER SINGLES/COUPLES</td>\n",
       "      <td>Mainstream</td>\n",
       "    </tr>\n",
       "    <tr>\n",
       "      <th>4</th>\n",
       "      <td>1005</td>\n",
       "      <td>MIDAGE SINGLES/COUPLES</td>\n",
       "      <td>Mainstream</td>\n",
       "    </tr>\n",
       "    <tr>\n",
       "      <th>5</th>\n",
       "      <td>1007</td>\n",
       "      <td>YOUNG SINGLES/COUPLES</td>\n",
       "      <td>Budget</td>\n",
       "    </tr>\n",
       "    <tr>\n",
       "      <th>6</th>\n",
       "      <td>1009</td>\n",
       "      <td>NEW FAMILIES</td>\n",
       "      <td>Premium</td>\n",
       "    </tr>\n",
       "    <tr>\n",
       "      <th>7</th>\n",
       "      <td>1010</td>\n",
       "      <td>YOUNG SINGLES/COUPLES</td>\n",
       "      <td>Mainstream</td>\n",
       "    </tr>\n",
       "    <tr>\n",
       "      <th>8</th>\n",
       "      <td>1011</td>\n",
       "      <td>OLDER SINGLES/COUPLES</td>\n",
       "      <td>Mainstream</td>\n",
       "    </tr>\n",
       "    <tr>\n",
       "      <th>9</th>\n",
       "      <td>1012</td>\n",
       "      <td>OLDER FAMILIES</td>\n",
       "      <td>Mainstream</td>\n",
       "    </tr>\n",
       "  </tbody>\n",
       "</table>\n",
       "</div>"
      ],
      "text/plain": [
       "   LYLTY_CARD_NBR               LIFESTAGE PREMIUM_CUSTOMER\n",
       "0            1000   YOUNG SINGLES/COUPLES          Premium\n",
       "1            1002   YOUNG SINGLES/COUPLES       Mainstream\n",
       "2            1003          YOUNG FAMILIES           Budget\n",
       "3            1004   OLDER SINGLES/COUPLES       Mainstream\n",
       "4            1005  MIDAGE SINGLES/COUPLES       Mainstream\n",
       "5            1007   YOUNG SINGLES/COUPLES           Budget\n",
       "6            1009            NEW FAMILIES          Premium\n",
       "7            1010   YOUNG SINGLES/COUPLES       Mainstream\n",
       "8            1011   OLDER SINGLES/COUPLES       Mainstream\n",
       "9            1012          OLDER FAMILIES       Mainstream"
      ]
     },
     "execution_count": 20,
     "metadata": {},
     "output_type": "execute_result"
    }
   ],
   "source": [
    "# # Rename columns\n",
    "# customerData.rename(columns={\n",
    "#     'LYLTY_CARD_NBR'  : 'loyalty_card_id',\n",
    "#     'LIFESTAGE'       : 'customer_life_stage',\n",
    "#     'PREMIUM_CUSTOMER': 'premium_customer'\n",
    "#     }, inplace=True)\n",
    "\n",
    "# Look at the first 10 rows\n",
    "customerData.head(10)"
   ]
  },
  {
   "cell_type": "code",
   "execution_count": 21,
   "metadata": {},
   "outputs": [
    {
     "name": "stdout",
     "output_type": "stream",
     "text": [
      "<class 'pandas.core.frame.DataFrame'>\n",
      "RangeIndex: 72637 entries, 0 to 72636\n",
      "Data columns (total 3 columns):\n",
      " #   Column            Non-Null Count  Dtype \n",
      "---  ------            --------------  ----- \n",
      " 0   LYLTY_CARD_NBR    72637 non-null  int64 \n",
      " 1   LIFESTAGE         72637 non-null  object\n",
      " 2   PREMIUM_CUSTOMER  72637 non-null  object\n",
      "dtypes: int64(1), object(2)\n",
      "memory usage: 1.7+ MB\n"
     ]
    }
   ],
   "source": [
    "customerData.info()"
   ]
  },
  {
   "cell_type": "code",
   "execution_count": 22,
   "metadata": {},
   "outputs": [
    {
     "data": {
      "text/html": [
       "<div>\n",
       "<style scoped>\n",
       "    .dataframe tbody tr th:only-of-type {\n",
       "        vertical-align: middle;\n",
       "    }\n",
       "\n",
       "    .dataframe tbody tr th {\n",
       "        vertical-align: top;\n",
       "    }\n",
       "\n",
       "    .dataframe thead th {\n",
       "        text-align: right;\n",
       "    }\n",
       "</style>\n",
       "<table border=\"1\" class=\"dataframe\">\n",
       "  <thead>\n",
       "    <tr style=\"text-align: right;\">\n",
       "      <th></th>\n",
       "      <th>DATE</th>\n",
       "      <th>STORE_NBR</th>\n",
       "      <th>LYLTY_CARD_NBR</th>\n",
       "      <th>TXN_ID</th>\n",
       "      <th>PROD_NBR</th>\n",
       "      <th>PROD_NAME</th>\n",
       "      <th>PROD_QTY</th>\n",
       "      <th>TOT_SALES</th>\n",
       "      <th>LIFESTAGE</th>\n",
       "      <th>PREMIUM_CUSTOMER</th>\n",
       "    </tr>\n",
       "  </thead>\n",
       "  <tbody>\n",
       "    <tr>\n",
       "      <th>0</th>\n",
       "      <td>2018-10-17</td>\n",
       "      <td>1</td>\n",
       "      <td>1000</td>\n",
       "      <td>1</td>\n",
       "      <td>5</td>\n",
       "      <td>Natural Chip        Compny SeaSalt175g</td>\n",
       "      <td>2</td>\n",
       "      <td>6.0</td>\n",
       "      <td>YOUNG SINGLES/COUPLES</td>\n",
       "      <td>Premium</td>\n",
       "    </tr>\n",
       "    <tr>\n",
       "      <th>1</th>\n",
       "      <td>2019-05-14</td>\n",
       "      <td>1</td>\n",
       "      <td>1307</td>\n",
       "      <td>348</td>\n",
       "      <td>66</td>\n",
       "      <td>CCs Nacho Cheese    175g</td>\n",
       "      <td>3</td>\n",
       "      <td>6.3</td>\n",
       "      <td>MIDAGE SINGLES/COUPLES</td>\n",
       "      <td>Budget</td>\n",
       "    </tr>\n",
       "  </tbody>\n",
       "</table>\n",
       "</div>"
      ],
      "text/plain": [
       "        DATE  STORE_NBR  LYLTY_CARD_NBR  TXN_ID  PROD_NBR   \n",
       "0 2018-10-17          1            1000       1         5  \\\n",
       "1 2019-05-14          1            1307     348        66   \n",
       "\n",
       "                                PROD_NAME  PROD_QTY  TOT_SALES   \n",
       "0  Natural Chip        Compny SeaSalt175g         2        6.0  \\\n",
       "1                CCs Nacho Cheese    175g         3        6.3   \n",
       "\n",
       "                LIFESTAGE PREMIUM_CUSTOMER  \n",
       "0   YOUNG SINGLES/COUPLES          Premium  \n",
       "1  MIDAGE SINGLES/COUPLES           Budget  "
      ]
     },
     "execution_count": 22,
     "metadata": {},
     "output_type": "execute_result"
    }
   ],
   "source": [
    "# Merge transactionData and customerData on 'Loyalty_Card_Number'\n",
    "merged_data = transactionData.merge(customerData, on='LYLTY_CARD_NBR')\n",
    "merged_data.head(2)"
   ]
  },
  {
   "cell_type": "code",
   "execution_count": null,
   "metadata": {},
   "outputs": [],
   "source": [
    "# Plot transactions over time\n",
    "transactions_by_day = transactionData.groupby('DATE').size()\n",
    "fig, ax = plt.subplots()\n",
    "ax.plot(transactions_by_day.index, transactions_by_day.values)\n",
    "ax.xaxis.set_major_formatter(DateFormatter(\"%Y-%m\"))\n",
    "plt.title('Transactions over time')\n",
    "plt.xlabel('Day')\n",
    "plt.ylabel('Number of transactions')\n",
    "plt.xticks(rotation=90)\n",
    "plt.show()\n",
    "\n",
    "# Extract pack size\n",
    "transactionData['PACK_SIZE'] = transactionData['PROD_NAME'].str.extract(\"(\\d+)\").astype(int)\n",
    "\n",
    "# Rename brand\n",
    "transactionData['BRAND'].replace('RED', 'RRD', inplace=True)\n",
    "\n",
    "# Merge transactionData and customer_data\n",
    "data = pd.merge(transactionData, customer_data, on='Loyalty_Card_Number', how='left')\n",
    "\n",
    "# Save to CSV\n",
    "data.to_csv('QVI_data.csv', index=False)"
   ]
  }
 ],
 "metadata": {
  "kernelspec": {
   "display_name": "base",
   "language": "python",
   "name": "python3"
  },
  "language_info": {
   "codemirror_mode": {
    "name": "ipython",
    "version": 3
   },
   "file_extension": ".py",
   "mimetype": "text/x-python",
   "name": "python",
   "nbconvert_exporter": "python",
   "pygments_lexer": "ipython3",
   "version": "3.10.9"
  }
 },
 "nbformat": 4,
 "nbformat_minor": 2
}
