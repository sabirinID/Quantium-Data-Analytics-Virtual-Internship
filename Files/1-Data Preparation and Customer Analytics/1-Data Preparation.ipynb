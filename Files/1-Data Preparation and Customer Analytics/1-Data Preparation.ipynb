{
 "cells": [
  {
   "cell_type": "markdown",
   "metadata": {},
   "source": [
    "# Retail Strategy and Analytics"
   ]
  },
  {
   "cell_type": "markdown",
   "metadata": {},
   "source": [
    "---\n",
    "\n",
    "# Data Preparation\n",
    "\n",
    "## Load required libraries\n",
    "\n",
    "Note that you will need to install these libraries if you have never used these\n",
    "before."
   ]
  },
  {
   "cell_type": "code",
   "execution_count": null,
   "metadata": {},
   "outputs": [],
   "source": [
    "# Data manipulation\n",
    "import numpy as np\n",
    "import pandas as pd\n",
    "import datetime as dt\n",
    "\n",
    "# Data visualization\n",
    "import matplotlib as mpl\n",
    "import matplotlib.pyplot as plt\n",
    "import seaborn as sns\n",
    "\n",
    "# Shows plots in jupyter notebook\n",
    "%matplotlib inline\n",
    "\n",
    "# Set plot style\n",
    "sns.set(color_codes=True)\n",
    "\n",
    "# Ignore warning\n",
    "import warnings\n",
    "warnings.filterwarnings('ignore')"
   ]
  },
  {
   "cell_type": "code",
   "execution_count": null,
   "metadata": {},
   "outputs": [],
   "source": [
    "pd.set_option('display.max_columns', None)\n",
    "pd.set_option('display.max_rows', None)"
   ]
  },
  {
   "cell_type": "code",
   "execution_count": null,
   "metadata": {},
   "outputs": [],
   "source": [
    "print('NumPy', np.__version__)\n",
    "print('Pandas', pd.__version__)\n",
    "print('Matplotlib', mpl.__version__)\n",
    "print('Seaborn', sns.__version__)"
   ]
  },
  {
   "cell_type": "markdown",
   "metadata": {},
   "source": [
    "---\n",
    "## Load data with pandas"
   ]
  },
  {
   "cell_type": "code",
   "execution_count": null,
   "metadata": {},
   "outputs": [],
   "source": [
    "# Load transaction and customer data\n",
    "transactionData = pd.read_excel('https://github.com/sabirinID/Quantium-Data-Analytics-Virtual-Internship/raw/main/Files/1-Data%20Preparation%20and%20Customer%20Analytics/QVI_transaction_data.xlsx')\n",
    "customerData = pd.read_csv('https://github.com/sabirinID/Quantium-Data-Analytics-Virtual-Internship/raw/main/Files/1-Data%20Preparation%20and%20Customer%20Analytics/QVI_purchase_behaviour.csv')"
   ]
  },
  {
   "cell_type": "markdown",
   "metadata": {},
   "source": [
    "---\n",
    "## Data description\n",
    "\n",
    "### Transaction data\n",
    "\n",
    "| Feature Name | Description |\n",
    "|--------------|-------------|\n",
    "| DATE | Date of the transaction |\n",
    "| STORE_NBR | Identification number of the store where the transaction took place |\n",
    "| LYLTY_CARD_NBR | Loyalty card number of the customer |\n",
    "| TXN_id | Identification number of the transaction |\n",
    "| PROD_NBR | Identification number of the product |\n",
    "| PROD_NAME | Name of the product |\n",
    "| PROD_QTY | Quantity of the product purchased in a single transaction |\n",
    "| TOT_SALES | Total sales from the transaction |\n",
    "\n",
    "### Customer data\n",
    "\n",
    "| Feature Name | Description |\n",
    "|--------------|-------------|\n",
    "| LYLTY_CARD_NBR | Loyalty card number of the customer |\n",
    "| LIFESTAGE | Life stage of the customer |\n",
    "| PREMIUM_CUSTOMER | Indicates whether the customer is a premium customer or not |"
   ]
  },
  {
   "cell_type": "markdown",
   "metadata": {},
   "source": [
    "---\n",
    "## Exploratory data analysis\n",
    "\n",
    "The first step in any analysis is to first understand the data. Let's take a look\n",
    "at each of the datasets provided.\n",
    "\n",
    "### Examining transaction data"
   ]
  },
  {
   "cell_type": "code",
   "execution_count": null,
   "metadata": {},
   "outputs": [],
   "source": [
    "transactionData.shape"
   ]
  },
  {
   "cell_type": "code",
   "execution_count": null,
   "metadata": {},
   "outputs": [],
   "source": [
    "transactionData.columns"
   ]
  },
  {
   "cell_type": "code",
   "execution_count": null,
   "metadata": {},
   "outputs": [],
   "source": [
    "# # Rename columns\n",
    "# transactionData.rename(columns={\n",
    "#     'DATE'          : 'transaction_date',\n",
    "#     'STORE_NBR'     : 'store_id',\n",
    "#     'LYLTY_CARD_NBR': 'loyalty_card_id',\n",
    "#     'TXN_ID'        : 'transaction_id',\n",
    "#     'PROD_NBR'      : 'product_id',\n",
    "#     'PROD_NAME'     : 'product_name',\n",
    "#     'PROD_QTY'      : 'product_quantity',\n",
    "#     'TOT_SALES'     : 'total_sales'\n",
    "#     }, inplace=True)\n",
    "\n",
    "# Look at the first 10 rows\n",
    "transactionData.head(10)"
   ]
  },
  {
   "cell_type": "markdown",
   "metadata": {},
   "source": [
    "- Let's check if columns we would expect to be numeric are in numeric form and date\n",
    "columns are in date format."
   ]
  },
  {
   "cell_type": "markdown",
   "metadata": {},
   "source": [
    "#### Examine transaction data"
   ]
  },
  {
   "cell_type": "code",
   "execution_count": null,
   "metadata": {},
   "outputs": [],
   "source": [
    "transactionData.info()"
   ]
  },
  {
   "cell_type": "markdown",
   "metadata": {},
   "source": [
    "- We can see that the `DATE` column is in an integer format. Let's change this to a\n",
    "date format.\n",
    "- We should check that we are looking at the right products by examining `PROD_NAME`."
   ]
  },
  {
   "cell_type": "markdown",
   "metadata": {},
   "source": [
    "#### Convert `DATE` column to a date format\n",
    "\n",
    "- A quick search online tells us that CSV and Excel integer dates begin on 30\n",
    "Dec 1899."
   ]
  },
  {
   "cell_type": "code",
   "execution_count": null,
   "metadata": {},
   "outputs": [],
   "source": [
    "# Convert 'DATE' column to datetime format\n",
    "transactionData['DATE'] = pd.to_datetime(transactionData['DATE'], origin='1899-12-30', unit='D')\n",
    "\n",
    "transactionData['DATE'].describe()"
   ]
  },
  {
   "cell_type": "markdown",
   "metadata": {},
   "source": [
    "#### Examine `PROD_NAME`\n",
    "\n",
    "- Generate a summary of the `PROD_NAME` column."
   ]
  },
  {
   "cell_type": "code",
   "execution_count": null,
   "metadata": {},
   "outputs": [],
   "source": [
    "transactionData['PROD_NAME'].describe()"
   ]
  },
  {
   "cell_type": "code",
   "execution_count": null,
   "metadata": {},
   "outputs": [],
   "source": [
    "transactionData['PROD_NAME'].nunique()"
   ]
  },
  {
   "cell_type": "code",
   "execution_count": null,
   "metadata": {},
   "outputs": [],
   "source": [
    "transactionData['PROD_NAME'].value_counts(normalize=True).round(5)"
   ]
  },
  {
   "cell_type": "markdown",
   "metadata": {},
   "source": [
    "- Looks like we are definitely looking at potato chips but how can we check that\n",
    "these are all chips? We can do some basic text analysis by summarising the\n",
    "individual words in the product name, `PROD_NAME`.\n",
    "- Examine the words in `PROD_NAME` to see if there are any incorrect entries such as products that are not chips"
   ]
  },
  {
   "cell_type": "code",
   "execution_count": null,
   "metadata": {},
   "outputs": [],
   "source": [
    "# Extract product words\n",
    "productWords = transactionData['PROD_NAME'].str.split().apply(pd.Series, 1).stack()\n",
    "productWords.index = productWords.index.droplevel(-1)\n",
    "productWords.name = 'words'"
   ]
  },
  {
   "cell_type": "markdown",
   "metadata": {},
   "source": [
    "- As we are only interested in words that will tell us if the product is chips or\n",
    "not, let's remove all words with digits and special characters such as '&' from our\n",
    "set of product words."
   ]
  },
  {
   "cell_type": "code",
   "execution_count": null,
   "metadata": {},
   "outputs": [],
   "source": [
    "# Remove digits\n",
    "productWords = productWords.str.replace(r'\\d+', '', regex=True)\n",
    "\n",
    "# Remove special characters\n",
    "productWords = productWords.str.replace(r'[^\\w\\s]', '', regex=True)\n",
    "\n",
    "# Remove empty spaces\n",
    "productWords = productWords[productWords.str.replace(' ', '').str.isalpha()]"
   ]
  },
  {
   "cell_type": "markdown",
   "metadata": {},
   "source": [
    "- Let's look at the most common words by counting the number of times a word\n",
    "appears and sorting them by this frequency in order of highest to lowest frequency."
   ]
  },
  {
   "cell_type": "code",
   "execution_count": null,
   "metadata": {},
   "outputs": [],
   "source": [
    "# Count the frequency of each word\n",
    "wordCounts = productWords.value_counts().reset_index()\n",
    "wordCounts.columns = ['words', 'frequency']\n",
    "\n",
    "# Sort the distinct words by frequency of occurrence\n",
    "wordCounts = wordCounts.sort_values(by='frequency', ascending=False)"
   ]
  },
  {
   "cell_type": "code",
   "execution_count": null,
   "metadata": {},
   "outputs": [],
   "source": [
    "# Remove all words that are alphabets, conjunctions, and prepositions\n",
    "wordCounts = wordCounts[~wordCounts['words'].isin(['g', 'G', 'And', 'Of'])]"
   ]
  },
  {
   "cell_type": "code",
   "execution_count": null,
   "metadata": {},
   "outputs": [],
   "source": [
    "wordCounts.head(13)"
   ]
  },
  {
   "cell_type": "markdown",
   "metadata": {},
   "source": [
    "- There are `Salsa` products in the dataset but we are only interested in the chips\n",
    "category, so let's remove these."
   ]
  },
  {
   "cell_type": "markdown",
   "metadata": {},
   "source": [
    "#### Remove `Salsa` products"
   ]
  },
  {
   "cell_type": "code",
   "execution_count": null,
   "metadata": {},
   "outputs": [],
   "source": [
    "# Remove salsa products\n",
    "transactionData['Salsa'] = transactionData['PROD_NAME'].str.contains('Salsa', case=False)\n",
    "transactionData = transactionData[~transactionData['Salsa']]\n",
    "transactionData.drop('Salsa', axis=1, inplace=True)"
   ]
  },
  {
   "cell_type": "markdown",
   "metadata": {},
   "source": [
    "- Next, we can use `describe()` to check summary statistics such as mean, min and max\n",
    "values for each feature to see if there are any obvious outliers in the data and if\n",
    "there are any nulls in any of the columns (`NA's : number of nulls` will appear in\n",
    "the output if there are any nulls)."
   ]
  },
  {
   "cell_type": "markdown",
   "metadata": {},
   "source": [
    "#### Summarise the data to check for nulls and possible outliers"
   ]
  },
  {
   "cell_type": "code",
   "execution_count": null,
   "metadata": {},
   "outputs": [],
   "source": [
    "transactionData.describe(include='all')"
   ]
  },
  {
   "cell_type": "markdown",
   "metadata": {},
   "source": [
    "- There are no nulls in the columns but product quantity, `PROD_QTY`, appears to have an outlier which we should investigate further. Let's investigate further the case where 200\n",
    "packets of chips are bought in one transaction."
   ]
  },
  {
   "cell_type": "markdown",
   "metadata": {},
   "source": [
    "#### Filter the dataset to find the outlier"
   ]
  },
  {
   "cell_type": "code",
   "execution_count": null,
   "metadata": {},
   "outputs": [],
   "source": [
    "transactionData[transactionData['PROD_QTY'] == 200]"
   ]
  },
  {
   "cell_type": "markdown",
   "metadata": {},
   "source": [
    "- There are two transactions where 200 packets of chips are bought in one transaction\n",
    "and both of these transactions were by the same customer.\n",
    "- Let's see if the customer has had other transactions."
   ]
  },
  {
   "cell_type": "code",
   "execution_count": null,
   "metadata": {},
   "outputs": [],
   "source": [
    "transactionData[transactionData['LYLTY_CARD_NBR'] == 226000]"
   ]
  },
  {
   "cell_type": "markdown",
   "metadata": {},
   "source": [
    "- It looks like this customer has only had the two transactions over the year and is\n",
    "not an ordinary retail customer. The customer might be buying chips for commercial\n",
    "purposes instead. We'll remove this loyalty card number from further analysis."
   ]
  },
  {
   "cell_type": "markdown",
   "metadata": {},
   "source": [
    "#### Filter out the customer based on the loyalty card number"
   ]
  },
  {
   "cell_type": "code",
   "execution_count": null,
   "metadata": {},
   "outputs": [],
   "source": [
    "# Get the indices of the rows where 'LYLTY_CARD_NBR' is 226000\n",
    "indices = transactionData[transactionData['LYLTY_CARD_NBR'] == 226000].index\n",
    "\n",
    "# Drop the rows\n",
    "transactionData.drop(indices, inplace=True)"
   ]
  },
  {
   "cell_type": "markdown",
   "metadata": {},
   "source": [
    "#### Re-examine transaction data"
   ]
  },
  {
   "cell_type": "code",
   "execution_count": null,
   "metadata": {},
   "outputs": [],
   "source": [
    "transactionData['PROD_QTY'].describe()"
   ]
  },
  {
   "cell_type": "markdown",
   "metadata": {},
   "source": [
    "- That's better. Now, let's look at the number of transaction lines over time to see\n",
    "if there are any obvious data issues such as missing data."
   ]
  },
  {
   "cell_type": "markdown",
   "metadata": {},
   "source": [
    "#### Count the number of transactions by `DATE`"
   ]
  },
  {
   "cell_type": "code",
   "execution_count": null,
   "metadata": {},
   "outputs": [],
   "source": [
    "transactionData.groupby('DATE')['TXN_ID'].count()"
   ]
  },
  {
   "cell_type": "markdown",
   "metadata": {},
   "source": [
    "#### Create a summary of transaction count by `DATE`."
   ]
  },
  {
   "cell_type": "code",
   "execution_count": null,
   "metadata": {},
   "outputs": [],
   "source": [
    "transactionData.groupby('DATE')['TXN_ID'].count().describe()"
   ]
  },
  {
   "cell_type": "markdown",
   "metadata": {},
   "source": [
    "- There's only 364 rows, meaning only 364 dates which indicates a missing date. Let's\n",
    "create a sequence of dates from 1 Jul 2018 to 30 Jun 2019 and use this to create a\n",
    "chart of number of transactions over time to find the missing date."
   ]
  },
  {
   "cell_type": "markdown",
   "metadata": {},
   "source": [
    "#### Create a sequence of dates and join this the count of transactions by `DATE`"
   ]
  },
  {
   "cell_type": "code",
   "execution_count": null,
   "metadata": {},
   "outputs": [],
   "source": [
    "# Create a date range from 1 July 2018 to 30 June 2019\n",
    "date_range = pd.date_range(start='2018-07-01', end='2019-06-30')\n",
    "\n",
    "# Convert the date range to a DataFrame\n",
    "date_df = pd.DataFrame(date_range, columns=['DATE'])\n",
    "\n",
    "# Set the 'DATE' column as the index\n",
    "date_df.set_index('DATE', inplace=True)\n",
    "\n",
    "# Join the 'transactionData' DataFrame with the 'date_df' DataFrame\n",
    "# using a left join. This will fill in missing days with NaN values.\n",
    "transaction_date = transactionData.groupby('DATE').size()\n",
    "transaction_date.name = 'TXN_SIZE'\n",
    "joined_df = date_df.join(transaction_date, how='left')\n",
    "\n",
    "# Reset the index\n",
    "joined_df.reset_index(inplace=True)"
   ]
  },
  {
   "cell_type": "code",
   "execution_count": null,
   "metadata": {},
   "outputs": [],
   "source": [
    "joined_df.head(3)"
   ]
  },
  {
   "cell_type": "code",
   "execution_count": null,
   "metadata": {},
   "outputs": [],
   "source": [
    "joined_df.tail(2)"
   ]
  },
  {
   "cell_type": "code",
   "execution_count": null,
   "metadata": {},
   "outputs": [],
   "source": [
    "joined_df[joined_df['TXN_SIZE'].isna() == True]"
   ]
  },
  {
   "cell_type": "markdown",
   "metadata": {},
   "source": [
    "- There were no transactions on 25 Dec 2018.\n",
    "- This could be due to a variety of reasons, such as holidays, weekends, or the absence of any business activity on that specific day. It's also possible that there were no data entries for that day, which could be due to data collection, data entry, or data cleaning issues."
   ]
  },
  {
   "cell_type": "code",
   "execution_count": null,
   "metadata": {},
   "outputs": [],
   "source": [
    "# Fill in the missing values with 0\n",
    "joined_df.fillna(0, inplace=True)"
   ]
  },
  {
   "cell_type": "markdown",
   "metadata": {},
   "source": [
    "#### Plot transactions over time"
   ]
  },
  {
   "cell_type": "code",
   "execution_count": null,
   "metadata": {},
   "outputs": [],
   "source": [
    "from matplotlib.dates import DateFormatter\n",
    "\n",
    "txn_by_day = joined_df.copy()\n",
    "\n",
    "# Create a figure\n",
    "fig, ax = plt.subplots(figsize=(16, 9))\n",
    "ax.plot(txn_by_day['DATE'], txn_by_day['TXN_SIZE'])\n",
    "ax.xaxis.set_major_formatter(DateFormatter('%Y-%m'))\n",
    "\n",
    "plt.title('Transactions over time', fontsize=20)\n",
    "plt.xlabel('\\nDay', fontsize=18)\n",
    "plt.ylabel('Number of transactions\\n', fontsize=18)\n",
    "plt.xticks(fontsize=16, rotation=90)\n",
    "plt.yticks(fontsize=16)\n",
    "plt.ylim(0, 875)\n",
    "\n",
    "plt.show()"
   ]
  },
  {
   "cell_type": "markdown",
   "metadata": {},
   "source": [
    "- We can see that there is an increase in purchases in December and a break in late\n",
    "December. Let's zoom in on this."
   ]
  },
  {
   "cell_type": "markdown",
   "metadata": {},
   "source": [
    "#### Filter to December and look at individual days"
   ]
  },
  {
   "cell_type": "code",
   "execution_count": null,
   "metadata": {},
   "outputs": [],
   "source": [
    "# Filter data to December\n",
    "dec_data = txn_by_day.loc[txn_by_day['DATE'].dt.month == 12] # December\n",
    "\n",
    "# Create a new figure\n",
    "fig, ax = plt.subplots(figsize=(16, 9))\n",
    "ax.plot(dec_data['DATE'], dec_data['TXN_SIZE'])\n",
    "ax.xaxis.set_major_formatter(DateFormatter('%Y-%m-%d'))      # Show individual days\n",
    "plt.title('Transactions in December', fontsize=20)\n",
    "plt.xlabel('\\nDay', fontsize=18)\n",
    "plt.ylabel('Number of transactions\\n', fontsize=18)\n",
    "plt.xticks(fontsize=16, rotation=90)\n",
    "plt.yticks(fontsize=16)\n",
    "plt.ylim(0, 875)\n",
    "\n",
    "plt.show()"
   ]
  },
  {
   "cell_type": "markdown",
   "metadata": {},
   "source": [
    "- We can see that the **increase** in sales occurs in the lead-up to Christmas and that\n",
    "there are zero sales on Christmas day itself. This is due to shops being closed on\n",
    "Christmas day.\n",
    "- Now that we are satisfied that the data no longer has outliers, we can move on to\n",
    "creating other features such as brand of chips or pack size from `PROD_NAME`. We will\n",
    "start with pack size."
   ]
  },
  {
   "cell_type": "markdown",
   "metadata": {},
   "source": [
    "#### Pack size\n",
    "\n",
    "- We can work this out by taking the digits that are in `PROD_NAME`."
   ]
  },
  {
   "cell_type": "code",
   "execution_count": null,
   "metadata": {},
   "outputs": [],
   "source": [
    "# Extract pack size\n",
    "transactionData['PACK_SIZE'] = transactionData['PROD_NAME'].str.extract('(\\d+)').astype(int)"
   ]
  },
  {
   "cell_type": "markdown",
   "metadata": {},
   "source": [
    "- Let's check if the pack sizes look sensible."
   ]
  },
  {
   "cell_type": "code",
   "execution_count": null,
   "metadata": {},
   "outputs": [],
   "source": [
    "transactionData['PACK_SIZE'].sort_values(ascending=False).unique()"
   ]
  },
  {
   "cell_type": "markdown",
   "metadata": {},
   "source": [
    "- The largest size is 380g and the smallest size is 70g - seems sensible!\n",
    "- Let's plot a histogram of `PACK_SIZE` since we know that it is a categorical\n",
    "variable and not a continuous variable even though it is numeric."
   ]
  },
  {
   "cell_type": "markdown",
   "metadata": {},
   "source": [
    "#### Plot a histogram showing the number of transactions by `PACK_SIZE`"
   ]
  },
  {
   "cell_type": "code",
   "execution_count": null,
   "metadata": {},
   "outputs": [],
   "source": [
    "# Create a histogram of 'PACK_SIZE'\n",
    "plt.figure(figsize=(16, 9))\n",
    "n, bins, patches = plt.hist(transactionData['PACK_SIZE'], bins=10, color='gray')\n",
    "\n",
    "# Find the bin with the highest frequency\n",
    "max_bin = np.argmax(n)\n",
    "\n",
    "# Change the color of the highest bin to orange\n",
    "patches[max_bin].set_facecolor('tab:orange')\n",
    "\n",
    "# Add annotations for each bin\n",
    "for i in range(len(n)):\n",
    "    plt.annotate(round(n[i]), (bins[i], n[i]), textcoords='offset points',\n",
    "                 xytext=(40, 10), ha='center', va='center')\n",
    "\n",
    "plt.title('Transactions by pack size', fontsize=20)\n",
    "plt.xlabel('\\nPack Size (gram)', fontsize=18)\n",
    "plt.ylabel('Number of transactions\\n', fontsize=18)\n",
    "plt.xticks(fontsize=16)\n",
    "plt.yticks(fontsize=16)\n",
    "plt.ylim(0, 115000)\n",
    "\n",
    "plt.show()"
   ]
  },
  {
   "cell_type": "markdown",
   "metadata": {},
   "source": [
    "- Pack sizes created look reasonable.\n",
    "- Now to create brands, we can use the first word in `PROD_NAME` to work out the brand\n",
    "name."
   ]
  },
  {
   "cell_type": "markdown",
   "metadata": {},
   "source": [
    "#### Brands\n",
    "\n",
    "- Create a column which contains the brand of the product, by\n",
    "extracting it from the product name, `PROD_NAME`."
   ]
  },
  {
   "cell_type": "code",
   "execution_count": null,
   "metadata": {},
   "outputs": [],
   "source": [
    "# Extract brand\n",
    "transactionData['BRAND'] = transactionData['PROD_NAME'].str.extract('([A-Z][^A-Z]*)')\n",
    "\n",
    "# Convert to integer only if the string is numeric\n",
    "transactionData['BRAND'] = transactionData['BRAND'].apply(lambda x: int(x) if x.isnumeric() else x)"
   ]
  },
  {
   "cell_type": "markdown",
   "metadata": {},
   "source": [
    "- Check the results look reasonable."
   ]
  },
  {
   "cell_type": "code",
   "execution_count": null,
   "metadata": {},
   "outputs": [],
   "source": [
    "transactionData['BRAND'].sort_values().unique()"
   ]
  },
  {
   "cell_type": "markdown",
   "metadata": {},
   "source": [
    "- Some of the brand names look like they are of the same brands - such as Red and\n",
    "RRD, which are both Red Rock Deli chips. Let's combine these together."
   ]
  },
  {
   "cell_type": "markdown",
   "metadata": {},
   "source": [
    "#### Clean brand names"
   ]
  },
  {
   "cell_type": "code",
   "execution_count": null,
   "metadata": {},
   "outputs": [],
   "source": [
    "# Rename brand\n",
    "transactionData['BRAND'].replace('R', 'Red ', inplace=True)"
   ]
  },
  {
   "cell_type": "markdown",
   "metadata": {},
   "source": [
    "#### Check again\n",
    "\n"
   ]
  },
  {
   "cell_type": "code",
   "execution_count": null,
   "metadata": {},
   "outputs": [],
   "source": [
    "transactionData['BRAND'].sort_values().unique()"
   ]
  },
  {
   "cell_type": "markdown",
   "metadata": {},
   "source": [
    "### Examining customer data"
   ]
  },
  {
   "cell_type": "markdown",
   "metadata": {},
   "source": [
    "- Now that we are happy with the transaction dataset, let's have a look at the\n",
    "customer dataset.\n",
    "- Do some basic summaries of the dataset, including distributions of\n",
    "any key columns."
   ]
  },
  {
   "cell_type": "code",
   "execution_count": null,
   "metadata": {},
   "outputs": [],
   "source": [
    "customerData.shape"
   ]
  },
  {
   "cell_type": "code",
   "execution_count": null,
   "metadata": {},
   "outputs": [],
   "source": [
    "customerData.columns"
   ]
  },
  {
   "cell_type": "code",
   "execution_count": null,
   "metadata": {},
   "outputs": [],
   "source": [
    "# # Rename columns\n",
    "# customerData.rename(columns={\n",
    "#     'LYLTY_CARD_NBR'  : 'loyalty_card_id',\n",
    "#     'LIFESTAGE'       : 'customer_life_stage',\n",
    "#     'PREMIUM_CUSTOMER': 'premium_customer'\n",
    "#     }, inplace=True)\n",
    "\n",
    "# Look at the first 10 rows\n",
    "customerData.head(10)"
   ]
  },
  {
   "cell_type": "markdown",
   "metadata": {},
   "source": [
    "#### Examine customer data"
   ]
  },
  {
   "cell_type": "code",
   "execution_count": null,
   "metadata": {},
   "outputs": [],
   "source": [
    "customerData.info()"
   ]
  },
  {
   "cell_type": "markdown",
   "metadata": {},
   "source": [
    "#### Merge transaction data to customer data"
   ]
  },
  {
   "cell_type": "code",
   "execution_count": null,
   "metadata": {},
   "outputs": [],
   "source": [
    "# Merge transactionData and customer_data\n",
    "data = pd.merge(transactionData, customerData, on='LYLTY_CARD_NBR', how='left')\n",
    "data.head(2)"
   ]
  },
  {
   "cell_type": "markdown",
   "metadata": {},
   "source": [
    "- As the number of rows in `data` is the same as that of `transactionData`, we can be\n",
    "sure that no duplicates were created. This is because we created `data` by setting\n",
    "`how='left'` (in other words, a left join) which means take all the rows in\n",
    "`transactionData` and find rows with matching values in shared columns and then\n",
    "joining the details in these rows to the first mentioned table.\n",
    "- Let's also check if some customers were not matched on by checking for nulls."
   ]
  },
  {
   "cell_type": "markdown",
   "metadata": {},
   "source": [
    "#### Check for missing customer details\n",
    "\n",
    "- See if any transactions did not have a matched customer."
   ]
  },
  {
   "cell_type": "code",
   "execution_count": null,
   "metadata": {},
   "outputs": [],
   "source": []
  },
  {
   "cell_type": "markdown",
   "metadata": {},
   "source": [
    "- Great, there are no nulls! So all our customers in the transaction data has been accounted for in the customer dataset."
   ]
  },
  {
   "cell_type": "markdown",
   "metadata": {},
   "source": [
    "#### Export the dataset"
   ]
  },
  {
   "cell_type": "code",
   "execution_count": null,
   "metadata": {},
   "outputs": [],
   "source": [
    "# Save to CSV\n",
    "data.to_csv('QVI_data.csv', index=False)"
   ]
  },
  {
   "cell_type": "markdown",
   "metadata": {},
   "source": [
    "- Data exploration is now complete!"
   ]
  },
  {
   "cell_type": "markdown",
   "metadata": {},
   "source": [
    "---\n",
    "\n",
    "## Data analysis on customer segments\n",
    "\n",
    "Now that the data is ready for analysis, we can define some metrics of interest to the client:\n",
    "- Who spends the most on chips (total sales), describing customers by lifestage and\n",
    "how premium their general purchasing behaviour is\n",
    "- How many customers are in each segment\n",
    "- How many chips are bought per customer by segment\n",
    "- What's the average chip price by customer segment\n",
    "\n",
    "We could also ask our data team for more information. Examples are:\n",
    "- The customer's total spend over the period and total spend for each transaction to understand what proportion of their grocery spend is on chips\n",
    "- Proportion of customers in each customer segment overall to compare against the mix of customers who purchase chips\n",
    "\n",
    "Let's start with calculating total sales by `LIFESTAGE` and `PREMIUM_CUSTOMER` and plotting the split by these segments to describe which customer segment contribute most to chip sales."
   ]
  },
  {
   "cell_type": "markdown",
   "metadata": {},
   "source": [
    "#### Total sales by `LIFESTAGE` and `PREMIUM_CUSTOMER`"
   ]
  },
  {
   "cell_type": "markdown",
   "metadata": {},
   "source": [
    "- Calculate the summary of sales by those dimensions and create a\n",
    "plot."
   ]
  },
  {
   "cell_type": "code",
   "execution_count": null,
   "metadata": {},
   "outputs": [],
   "source": []
  },
  {
   "cell_type": "markdown",
   "metadata": {},
   "source": [
    "- Sales are coming mainly from Budget - older families, Mainstream - young singles/couples, and Mainstream - retirees.\n",
    "- Let's see if the higher sales are due to there being more customers who buy chips."
   ]
  },
  {
   "cell_type": "markdown",
   "metadata": {},
   "source": [
    "#### Number of customers by `LIFESTAGE` and `PREMIUM_CUSTOMER`"
   ]
  },
  {
   "cell_type": "markdown",
   "metadata": {},
   "source": [
    "- Calculate the summary of number of customers by those dimensions and create a plot."
   ]
  },
  {
   "cell_type": "code",
   "execution_count": null,
   "metadata": {},
   "outputs": [],
   "source": []
  },
  {
   "cell_type": "markdown",
   "metadata": {},
   "source": [
    "- There are more Mainstream - young singles/couples and Mainstream - retirees who buy chips. This contributes to there being more sales to these customer segments but this is not a major driver for the Budget - Older families segment.\n",
    "- Higher sales may also be driven by more units of chips being bought per customer. Let's have a look at this next."
   ]
  },
  {
   "cell_type": "markdown",
   "metadata": {},
   "source": [
    "#### Average number of units per customer by `LIFESTAGE` and `PREMIUM_CUSTOMER`"
   ]
  },
  {
   "cell_type": "markdown",
   "metadata": {},
   "source": [
    "- Calculate and plot the average number of units per customer by those two dimensions."
   ]
  },
  {
   "cell_type": "code",
   "execution_count": null,
   "metadata": {},
   "outputs": [],
   "source": []
  },
  {
   "cell_type": "markdown",
   "metadata": {},
   "source": [
    "- Older families and young families in general buy more chips per customer.\n",
    "- Let's also investigate the average price per unit chips bought for each customer segment as this is also a driver of total sales."
   ]
  },
  {
   "cell_type": "markdown",
   "metadata": {},
   "source": [
    "#### Average price per unit by `LIFESTAGE` and `PREMIUM_CUSTOMER`"
   ]
  },
  {
   "cell_type": "markdown",
   "metadata": {},
   "source": [
    "- Calculate and plot the average price per unit sold (average sale\n",
    "price) by those two customer dimensions."
   ]
  },
  {
   "cell_type": "code",
   "execution_count": null,
   "metadata": {},
   "outputs": [],
   "source": []
  },
  {
   "cell_type": "markdown",
   "metadata": {},
   "source": [
    "- Mainstream midage and young singles and couples are more willing to pay more per packet of chips compared to their budget and premium counterparts. This may be due to premium shoppers being more likely to buy healthy snacks and when they buy chips, this is mainly for entertainment purposes rather than their own consumption. This is also supported by there being fewer premium midage and young singles and couples buying chips compared to their mainstream counterparts.\n",
    "\n",
    "- As the difference in average price per unit isn't large, we can check if this difference is statistically different."
   ]
  },
  {
   "cell_type": "markdown",
   "metadata": {},
   "source": [
    "#### Perform an independent t-test between mainstream vs premium and budget midage and young singles and couples"
   ]
  },
  {
   "cell_type": "markdown",
   "metadata": {},
   "source": [
    "- Perform a t-test to see if the difference is significant."
   ]
  },
  {
   "cell_type": "code",
   "execution_count": null,
   "metadata": {},
   "outputs": [],
   "source": []
  },
  {
   "cell_type": "markdown",
   "metadata": {},
   "source": [
    "- The t-test results in a p-value of XXXXXXX, i.e. the unit price for mainstream, young and mid-age singles and couples [ARE / ARE NOT] significantly higher than that of budget or premium, young and midage singles and couples."
   ]
  },
  {
   "cell_type": "markdown",
   "metadata": {},
   "source": [
    "## Deep dive into specific customer segments for insights\n",
    "\n",
    "We have found quite a few interesting insights that we can dive deeper into.\n",
    "\n",
    "We might want to target customer segments that contribute the most to sales to retain them or further increase sales. Let's look at `Mainstream` - young singles/couples. For instance, let's find out if they tend to buy a particular brand of chips."
   ]
  },
  {
   "cell_type": "markdown",
   "metadata": {},
   "source": [
    "#### Deep dive into `Mainstream`, young singles/couples"
   ]
  },
  {
   "cell_type": "markdown",
   "metadata": {},
   "source": [
    "- Work out of there are brands that these two customer segments prefer more than others. We could use a technique called affinity analysis or a-priori analysis."
   ]
  },
  {
   "cell_type": "markdown",
   "metadata": {},
   "source": [
    "We can see that :\n",
    "\n",
    "[INSIGHTS]\n",
    "\n",
    "Let's also find out if our target segment tends to buy larger packs of chips."
   ]
  },
  {
   "cell_type": "markdown",
   "metadata": {},
   "source": [
    "#### Preferred pack size compared to the rest of the population"
   ]
  },
  {
   "cell_type": "markdown",
   "metadata": {},
   "source": [
    "[INSIGHTS]"
   ]
  }
 ],
 "metadata": {
  "kernelspec": {
   "display_name": "base",
   "language": "python",
   "name": "python3"
  },
  "language_info": {
   "codemirror_mode": {
    "name": "ipython",
    "version": 3
   },
   "file_extension": ".py",
   "mimetype": "text/x-python",
   "name": "python",
   "nbconvert_exporter": "python",
   "pygments_lexer": "ipython3",
   "version": "3.10.9"
  }
 },
 "nbformat": 4,
 "nbformat_minor": 2
}
